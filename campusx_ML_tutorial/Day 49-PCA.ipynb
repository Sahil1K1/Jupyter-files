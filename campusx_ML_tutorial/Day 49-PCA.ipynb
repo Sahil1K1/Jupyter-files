{
 "cells": [
  {
   "cell_type": "markdown",
   "id": "b31920c5-6fd5-4d67-9959-e72da25af02d",
   "metadata": {},
   "source": [
    "### code is in kaggle in MNIST DATA"
   ]
  },
  {
   "cell_type": "code",
   "execution_count": null,
   "id": "564dcbd2-20a5-4080-925c-39c30c8d6efc",
   "metadata": {},
   "outputs": [],
   "source": []
  }
 ],
 "metadata": {
  "kernelspec": {
   "display_name": "Python 3 (ipykernel)",
   "language": "python",
   "name": "python3"
  },
  "language_info": {
   "codemirror_mode": {
    "name": "ipython",
    "version": 3
   },
   "file_extension": ".py",
   "mimetype": "text/x-python",
   "name": "python",
   "nbconvert_exporter": "python",
   "pygments_lexer": "ipython3",
   "version": "3.11.8"
  }
 },
 "nbformat": 4,
 "nbformat_minor": 5
}
