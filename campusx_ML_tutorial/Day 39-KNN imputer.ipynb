{
 "cells": [
  {
   "cell_type": "markdown",
   "id": "c35d73ec-4638-42c2-bffe-179dd015f529",
   "metadata": {},
   "source": [
    "#### Here we have to find the eucledian distance"
   ]
  },
  {
   "cell_type": "markdown",
   "id": "0d58837d-2f80-46dc-8766-5100708c496e",
   "metadata": {},
   "source": [
    "##### Advantage\n",
    "1) More accurate\n",
    "##### Disadvantage\n",
    "1) lots of calculation \n",
    "2) production(everytime new data gets feeded we have to cal. distance using all the data sets so it increases the memory"
   ]
  },
  {
   "cell_type": "code",
   "execution_count": 14,
   "id": "204addda-65a6-45fb-b6ab-edc576dabb73",
   "metadata": {
    "tags": []
   },
   "outputs": [],
   "source": [
    "import numpy as np\n",
    "import pandas as pd\n",
    "\n",
    "from sklearn.model_selection import train_test_split\n",
    "\n",
    "from sklearn.impute import KNNImputer,SimpleImputer\n",
    "from sklearn.linear_model import LogisticRegression\n",
    "\n",
    "from sklearn.metrics import accuracy_score"
   ]
  },
  {
   "cell_type": "code",
   "execution_count": 15,
   "id": "bbe6c64e-44a7-4ec9-a3f7-13f822b23802",
   "metadata": {
    "tags": []
   },
   "outputs": [],
   "source": [
    "df = pd.read_csv('titanic.csv', usecols=['Age','Pclass','Fare','Survived'])"
   ]
  },
  {
   "cell_type": "code",
   "execution_count": 16,
   "id": "daf51823-1e6f-4de8-b41b-ca8c32f4bf23",
   "metadata": {
    "tags": []
   },
   "outputs": [
    {
     "data": {
      "text/html": [
       "<div>\n",
       "<style scoped>\n",
       "    .dataframe tbody tr th:only-of-type {\n",
       "        vertical-align: middle;\n",
       "    }\n",
       "\n",
       "    .dataframe tbody tr th {\n",
       "        vertical-align: top;\n",
       "    }\n",
       "\n",
       "    .dataframe thead th {\n",
       "        text-align: right;\n",
       "    }\n",
       "</style>\n",
       "<table border=\"1\" class=\"dataframe\">\n",
       "  <thead>\n",
       "    <tr style=\"text-align: right;\">\n",
       "      <th></th>\n",
       "      <th>Survived</th>\n",
       "      <th>Pclass</th>\n",
       "      <th>Age</th>\n",
       "      <th>Fare</th>\n",
       "    </tr>\n",
       "  </thead>\n",
       "  <tbody>\n",
       "    <tr>\n",
       "      <th>0</th>\n",
       "      <td>0</td>\n",
       "      <td>3</td>\n",
       "      <td>22.0</td>\n",
       "      <td>7.2500</td>\n",
       "    </tr>\n",
       "    <tr>\n",
       "      <th>1</th>\n",
       "      <td>1</td>\n",
       "      <td>1</td>\n",
       "      <td>38.0</td>\n",
       "      <td>71.2833</td>\n",
       "    </tr>\n",
       "    <tr>\n",
       "      <th>2</th>\n",
       "      <td>1</td>\n",
       "      <td>3</td>\n",
       "      <td>26.0</td>\n",
       "      <td>7.9250</td>\n",
       "    </tr>\n",
       "    <tr>\n",
       "      <th>3</th>\n",
       "      <td>1</td>\n",
       "      <td>1</td>\n",
       "      <td>35.0</td>\n",
       "      <td>53.1000</td>\n",
       "    </tr>\n",
       "    <tr>\n",
       "      <th>4</th>\n",
       "      <td>0</td>\n",
       "      <td>3</td>\n",
       "      <td>35.0</td>\n",
       "      <td>8.0500</td>\n",
       "    </tr>\n",
       "  </tbody>\n",
       "</table>\n",
       "</div>"
      ],
      "text/plain": [
       "   Survived  Pclass   Age     Fare\n",
       "0         0       3  22.0   7.2500\n",
       "1         1       1  38.0  71.2833\n",
       "2         1       3  26.0   7.9250\n",
       "3         1       1  35.0  53.1000\n",
       "4         0       3  35.0   8.0500"
      ]
     },
     "execution_count": 16,
     "metadata": {},
     "output_type": "execute_result"
    }
   ],
   "source": [
    "df.head()"
   ]
  },
  {
   "cell_type": "code",
   "execution_count": 17,
   "id": "882b8ec0-8292-4e59-a30a-56794560984a",
   "metadata": {
    "tags": []
   },
   "outputs": [
    {
     "name": "stdout",
     "output_type": "stream",
     "text": [
      "<class 'pandas.core.frame.DataFrame'>\n",
      "RangeIndex: 891 entries, 0 to 890\n",
      "Data columns (total 4 columns):\n",
      " #   Column    Non-Null Count  Dtype  \n",
      "---  ------    --------------  -----  \n",
      " 0   Survived  891 non-null    int64  \n",
      " 1   Pclass    891 non-null    int64  \n",
      " 2   Age       714 non-null    float64\n",
      " 3   Fare      891 non-null    float64\n",
      "dtypes: float64(2), int64(2)\n",
      "memory usage: 28.0 KB\n"
     ]
    }
   ],
   "source": [
    "df.info()"
   ]
  },
  {
   "cell_type": "code",
   "execution_count": 18,
   "id": "e6e5ecd5-f081-43d6-a18d-2d08e727424c",
   "metadata": {
    "tags": []
   },
   "outputs": [
    {
     "data": {
      "text/plain": [
       "Survived    0.000000\n",
       "Pclass      0.000000\n",
       "Age         0.198653\n",
       "Fare        0.000000\n",
       "dtype: float64"
      ]
     },
     "execution_count": 18,
     "metadata": {},
     "output_type": "execute_result"
    }
   ],
   "source": [
    "df.isnull().mean()"
   ]
  },
  {
   "cell_type": "code",
   "execution_count": 19,
   "id": "47170334-795e-4501-8fc7-70b3917ae07b",
   "metadata": {
    "tags": []
   },
   "outputs": [],
   "source": [
    "X = df.drop(columns=['Survived'])\n",
    "y = df['Survived']"
   ]
  },
  {
   "cell_type": "code",
   "execution_count": 20,
   "id": "f54be44a-a641-4c81-a992-9f0286938032",
   "metadata": {
    "tags": []
   },
   "outputs": [],
   "source": [
    "X_train,X_test,y_train,y_test = train_test_split(X,y,test_size=0.2,random_state=2)"
   ]
  },
  {
   "cell_type": "code",
   "execution_count": 21,
   "id": "876ef554-d078-439c-933c-2da491434db0",
   "metadata": {},
   "outputs": [
    {
     "data": {
      "text/html": [
       "<div>\n",
       "<style scoped>\n",
       "    .dataframe tbody tr th:only-of-type {\n",
       "        vertical-align: middle;\n",
       "    }\n",
       "\n",
       "    .dataframe tbody tr th {\n",
       "        vertical-align: top;\n",
       "    }\n",
       "\n",
       "    .dataframe thead th {\n",
       "        text-align: right;\n",
       "    }\n",
       "</style>\n",
       "<table border=\"1\" class=\"dataframe\">\n",
       "  <thead>\n",
       "    <tr style=\"text-align: right;\">\n",
       "      <th></th>\n",
       "      <th>Pclass</th>\n",
       "      <th>Age</th>\n",
       "      <th>Fare</th>\n",
       "    </tr>\n",
       "  </thead>\n",
       "  <tbody>\n",
       "    <tr>\n",
       "      <th>30</th>\n",
       "      <td>1</td>\n",
       "      <td>40.0</td>\n",
       "      <td>27.7208</td>\n",
       "    </tr>\n",
       "    <tr>\n",
       "      <th>10</th>\n",
       "      <td>3</td>\n",
       "      <td>4.0</td>\n",
       "      <td>16.7000</td>\n",
       "    </tr>\n",
       "    <tr>\n",
       "      <th>873</th>\n",
       "      <td>3</td>\n",
       "      <td>47.0</td>\n",
       "      <td>9.0000</td>\n",
       "    </tr>\n",
       "    <tr>\n",
       "      <th>182</th>\n",
       "      <td>3</td>\n",
       "      <td>9.0</td>\n",
       "      <td>31.3875</td>\n",
       "    </tr>\n",
       "    <tr>\n",
       "      <th>876</th>\n",
       "      <td>3</td>\n",
       "      <td>20.0</td>\n",
       "      <td>9.8458</td>\n",
       "    </tr>\n",
       "  </tbody>\n",
       "</table>\n",
       "</div>"
      ],
      "text/plain": [
       "     Pclass   Age     Fare\n",
       "30        1  40.0  27.7208\n",
       "10        3   4.0  16.7000\n",
       "873       3  47.0   9.0000\n",
       "182       3   9.0  31.3875\n",
       "876       3  20.0   9.8458"
      ]
     },
     "execution_count": 21,
     "metadata": {},
     "output_type": "execute_result"
    }
   ],
   "source": [
    "X_train.head()"
   ]
  },
  {
   "cell_type": "code",
   "execution_count": null,
   "id": "1b93697c-43a7-4340-a22e-493c417df7ff",
   "metadata": {},
   "outputs": [],
   "source": []
  },
  {
   "cell_type": "code",
   "execution_count": 22,
   "id": "67d0a596-e3b1-4e67-b534-01ea5bed6dee",
   "metadata": {
    "tags": []
   },
   "outputs": [],
   "source": [
    "knn = KNNImputer(n_neighbors=3, weights='distance')"
   ]
  },
  {
   "cell_type": "code",
   "execution_count": 23,
   "id": "b9bc8c1c-17a1-40f8-a039-f8b9ea12cd0f",
   "metadata": {
    "tags": []
   },
   "outputs": [],
   "source": [
    "X_train_trf = knn.fit_transform(X_train)\n",
    "X_test_trf = knn.transform(X_test)"
   ]
  },
  {
   "cell_type": "code",
   "execution_count": 24,
   "id": "f769e866-71d0-4322-a8b5-a70ca4fd9a65",
   "metadata": {
    "tags": []
   },
   "outputs": [],
   "source": [
    "lr = LogisticRegression()\n",
    "\n",
    "lr.fit(X_train_trf, y_train)\n",
    "\n",
    "y_pred = lr.predict(X_test_trf)"
   ]
  },
  {
   "cell_type": "code",
   "execution_count": 25,
   "id": "dae9bb29-6537-4f81-8369-4f517cd2421c",
   "metadata": {
    "tags": []
   },
   "outputs": [
    {
     "data": {
      "text/plain": [
       "0.7150837988826816"
      ]
     },
     "execution_count": 25,
     "metadata": {},
     "output_type": "execute_result"
    }
   ],
   "source": [
    "accuracy_score(y_test, y_pred)"
   ]
  },
  {
   "cell_type": "markdown",
   "id": "7e1e09d3-68c1-41ec-b7eb-4e088afbac44",
   "metadata": {},
   "source": [
    "##### comparison with simple Imputer:"
   ]
  },
  {
   "cell_type": "code",
   "execution_count": 26,
   "id": "8f6cb94d-6f48-425e-bb8b-196d561d9f9d",
   "metadata": {
    "tags": []
   },
   "outputs": [],
   "source": [
    "si = SimpleImputer()\n",
    "\n",
    "X_train_trf2 = si.fit_transform(X_train)\n",
    "X_test_trf2 = si.transform(X_test)"
   ]
  },
  {
   "cell_type": "code",
   "execution_count": 27,
   "id": "8e38f292-95de-4505-b473-e7050c8e4222",
   "metadata": {
    "tags": []
   },
   "outputs": [],
   "source": [
    "lr2 = LogisticRegression()\n",
    "\n",
    "lr2.fit(X_train_trf2, y_train)\n",
    "\n",
    "y_pred2 = lr2.predict(X_test_trf2)"
   ]
  },
  {
   "cell_type": "code",
   "execution_count": 28,
   "id": "a2408d06-fd19-44a3-b458-e01d27951272",
   "metadata": {
    "tags": []
   },
   "outputs": [
    {
     "data": {
      "text/plain": [
       "0.6927374301675978"
      ]
     },
     "execution_count": 28,
     "metadata": {},
     "output_type": "execute_result"
    }
   ],
   "source": [
    "accuracy_score(y_test, y_pred2)"
   ]
  },
  {
   "cell_type": "code",
   "execution_count": null,
   "id": "b0ff5685-ec5d-4e67-b368-c0f2c6242118",
   "metadata": {},
   "outputs": [],
   "source": []
  },
  {
   "cell_type": "code",
   "execution_count": 34,
   "id": "5c604c00-721c-49fc-a47d-1998d9f30652",
   "metadata": {
    "tags": []
   },
   "outputs": [
    {
     "name": "stdout",
     "output_type": "stream",
     "text": [
      "distance <class 'str'>\n",
      "uniform <class 'str'>\n"
     ]
    }
   ],
   "source": [
    "for j in ['distance','uniform']:\n",
    "    print(j, type(j))"
   ]
  },
  {
   "cell_type": "markdown",
   "id": "54dd614b-d3e8-420a-8e65-c2554c1f3c4a",
   "metadata": {},
   "source": [
    "#### Now finding the best value of n_neighbours using a loop"
   ]
  },
  {
   "cell_type": "code",
   "execution_count": 32,
   "id": "f57b5edb-6803-4d8a-beed-1c703905a95c",
   "metadata": {
    "tags": []
   },
   "outputs": [
    {
     "name": "stdout",
     "output_type": "stream",
     "text": [
      "1 0.6871508379888268\n",
      "2 0.7150837988826816\n",
      "3 0.7150837988826816\n",
      "4 0.7094972067039106\n",
      "5 0.7094972067039106\n",
      "6 0.7039106145251397\n",
      "7 0.7039106145251397\n",
      "8 0.7039106145251397\n",
      "9 0.7039106145251397\n",
      "10 0.7039106145251397\n",
      "11 0.7039106145251397\n",
      "12 0.7039106145251397\n",
      "13 0.7039106145251397\n",
      "14 0.7039106145251397\n"
     ]
    }
   ],
   "source": [
    "for i in range(1, 15):\n",
    "    knn2 = KNNImputer(n_neighbors=i, weights='distance')\n",
    "    \n",
    "    X_train_trf3 = knn2.fit_transform(X_train)\n",
    "    X_test_trf3 = knn2.transform(X_test)\n",
    "    \n",
    "    \n",
    "    lr = LogisticRegression()\n",
    "\n",
    "    lr.fit(X_train_trf3, y_train)\n",
    "\n",
    "    y_pred3 = lr.predict(X_test_trf3)\n",
    "    \n",
    "    print(i, accuracy_score(y_test, y_pred3))"
   ]
  },
  {
   "cell_type": "code",
   "execution_count": 35,
   "id": "c43b08d6-d1e0-4fcc-a8ca-5ad645848c83",
   "metadata": {
    "tags": []
   },
   "outputs": [
    {
     "name": "stdout",
     "output_type": "stream",
     "text": [
      "1 0.6871508379888268\n",
      "2 0.7094972067039106\n",
      "3 0.7039106145251397\n",
      "4 0.7039106145251397\n",
      "5 0.7039106145251397\n",
      "6 0.7039106145251397\n",
      "7 0.7039106145251397\n",
      "8 0.6983240223463687\n",
      "9 0.7039106145251397\n",
      "10 0.7039106145251397\n",
      "11 0.7039106145251397\n",
      "12 0.7039106145251397\n",
      "13 0.7039106145251397\n",
      "14 0.7039106145251397\n"
     ]
    }
   ],
   "source": [
    "for i in range(1, 15):\n",
    "    knn3 = KNNImputer(n_neighbors=i, weights='uniform')\n",
    "    \n",
    "    X_train_trf4 = knn3.fit_transform(X_train)\n",
    "    X_test_trf4 = knn3.transform(X_test)\n",
    "    \n",
    "    \n",
    "    lr = LogisticRegression()\n",
    "\n",
    "    lr.fit(X_train_trf4, y_train)\n",
    "\n",
    "    y_pred4 = lr.predict(X_test_trf4)\n",
    "    \n",
    "    print(i, accuracy_score(y_test, y_pred4))"
   ]
  },
  {
   "cell_type": "code",
   "execution_count": null,
   "id": "31467721-be3a-4189-b249-8005dfe873b3",
   "metadata": {},
   "outputs": [],
   "source": []
  }
 ],
 "metadata": {
  "kernelspec": {
   "display_name": "Python 3 (ipykernel)",
   "language": "python",
   "name": "python3"
  },
  "language_info": {
   "codemirror_mode": {
    "name": "ipython",
    "version": 3
   },
   "file_extension": ".py",
   "mimetype": "text/x-python",
   "name": "python",
   "nbconvert_exporter": "python",
   "pygments_lexer": "ipython3",
   "version": "3.11.8"
  }
 },
 "nbformat": 4,
 "nbformat_minor": 5
}
