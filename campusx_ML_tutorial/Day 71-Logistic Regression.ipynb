{
 "cells": [
  {
   "cell_type": "code",
   "execution_count": 1,
   "id": "0a1d49c0-6d91-47c8-a8f0-9a6ee2af651b",
   "metadata": {
    "tags": []
   },
   "outputs": [],
   "source": [
    "import pandas as pd\n",
    "import numpy as np"
   ]
  },
  {
   "cell_type": "code",
   "execution_count": 2,
   "id": "89493f11-aeae-47d0-ab8e-0d9be2d55c59",
   "metadata": {
    "tags": []
   },
   "outputs": [],
   "source": [
    "import matplotlib.pyplot as plt\n",
    "%matplotlib inline\n",
    "import seaborn as sns"
   ]
  },
  {
   "cell_type": "code",
   "execution_count": 3,
   "id": "81181cf6-bb67-4695-9bdc-c506b9625067",
   "metadata": {
    "tags": []
   },
   "outputs": [],
   "source": [
    "from sklearn.datasets import make_classification"
   ]
  },
  {
   "cell_type": "code",
   "execution_count": 4,
   "id": "c41586c1-1b02-4bcd-99c2-1cb687531f87",
   "metadata": {
    "tags": []
   },
   "outputs": [],
   "source": [
    "X, y = make_classification(n_samples=100, n_features=2, n_informative=1, n_redundant=0, \n",
    "                          n_classes=2, n_clusters_per_class=1, random_state=41, hypercube=False, class_sep=30)"
   ]
  },
  {
   "cell_type": "code",
   "execution_count": 5,
   "id": "fc8b3301-d237-44af-8fd2-a9b025760f90",
   "metadata": {
    "tags": []
   },
   "outputs": [
    {
     "data": {
      "text/plain": [
       "array([1, 1, 1, 0, 1, 0, 0, 1, 1, 0, 0, 0, 1, 1, 0, 1, 1, 0, 1, 0, 0, 0,\n",
       "       0, 1, 0, 1, 0, 0, 0, 0, 0, 1, 1, 1, 1, 1, 0, 1, 0, 1, 0, 0, 0, 1,\n",
       "       0, 1, 1, 0, 0, 0, 1, 1, 0, 1, 1, 0, 1, 0, 0, 1, 1, 0, 0, 1, 1, 1,\n",
       "       0, 1, 0, 0, 0, 1, 1, 0, 1, 1, 0, 1, 0, 1, 1, 1, 0, 1, 1, 0, 0, 0,\n",
       "       1, 0, 1, 1, 0, 0, 1, 0, 0, 0, 1, 1])"
      ]
     },
     "execution_count": 5,
     "metadata": {},
     "output_type": "execute_result"
    }
   ],
   "source": [
    "y"
   ]
  },
  {
   "cell_type": "code",
   "execution_count": 6,
   "id": "1fb59be0-b65a-4a6c-a713-68b2ac56f5a0",
   "metadata": {
    "tags": []
   },
   "outputs": [
    {
     "data": {
      "text/plain": [
       "100"
      ]
     },
     "execution_count": 6,
     "metadata": {},
     "output_type": "execute_result"
    }
   ],
   "source": [
    "len(X)"
   ]
  },
  {
   "cell_type": "code",
   "execution_count": 7,
   "id": "6100f2bb-cc7f-4a08-9f97-162a9c192444",
   "metadata": {
    "tags": []
   },
   "outputs": [
    {
     "data": {
      "text/plain": [
       "100"
      ]
     },
     "execution_count": 7,
     "metadata": {},
     "output_type": "execute_result"
    }
   ],
   "source": [
    "len(y)"
   ]
  },
  {
   "cell_type": "code",
   "execution_count": 8,
   "id": "46f259a9-05ee-4c4f-8fc9-0110de09a9c0",
   "metadata": {
    "tags": []
   },
   "outputs": [],
   "source": [
    "# now joining these two into a single dataframe"
   ]
  },
  {
   "cell_type": "code",
   "execution_count": 9,
   "id": "917d1ca0-31aa-4986-9088-d25a38fb0e7d",
   "metadata": {
    "tags": []
   },
   "outputs": [],
   "source": [
    "y = y.reshape(-1,1)"
   ]
  },
  {
   "cell_type": "code",
   "execution_count": 10,
   "id": "c7995ef6-d712-4349-851c-2be0bb0dc2c6",
   "metadata": {
    "tags": []
   },
   "outputs": [],
   "source": [
    "df = np.concatenate([X,y], axis=1)"
   ]
  },
  {
   "cell_type": "code",
   "execution_count": 11,
   "id": "a1f53cd9-204c-4f7a-b5eb-e8163b66d6a5",
   "metadata": {
    "tags": []
   },
   "outputs": [],
   "source": [
    "df = pd.DataFrame(df)\n",
    "df.rename(columns={0:'feature1', 1:'feature2', 2:'target'}, inplace=True)"
   ]
  },
  {
   "cell_type": "code",
   "execution_count": 12,
   "id": "5e6dfd4c-e7c6-4be8-b9fb-ed5486edc7df",
   "metadata": {
    "tags": []
   },
   "outputs": [
    {
     "data": {
      "text/html": [
       "<div>\n",
       "<style scoped>\n",
       "    .dataframe tbody tr th:only-of-type {\n",
       "        vertical-align: middle;\n",
       "    }\n",
       "\n",
       "    .dataframe tbody tr th {\n",
       "        vertical-align: top;\n",
       "    }\n",
       "\n",
       "    .dataframe thead th {\n",
       "        text-align: right;\n",
       "    }\n",
       "</style>\n",
       "<table border=\"1\" class=\"dataframe\">\n",
       "  <thead>\n",
       "    <tr style=\"text-align: right;\">\n",
       "      <th></th>\n",
       "      <th>feature1</th>\n",
       "      <th>feature2</th>\n",
       "      <th>target</th>\n",
       "    </tr>\n",
       "  </thead>\n",
       "  <tbody>\n",
       "    <tr>\n",
       "      <th>0</th>\n",
       "      <td>0.823215</td>\n",
       "      <td>-0.116976</td>\n",
       "      <td>1.0</td>\n",
       "    </tr>\n",
       "    <tr>\n",
       "      <th>1</th>\n",
       "      <td>0.375148</td>\n",
       "      <td>-0.731152</td>\n",
       "      <td>1.0</td>\n",
       "    </tr>\n",
       "    <tr>\n",
       "      <th>2</th>\n",
       "      <td>0.269478</td>\n",
       "      <td>-0.708106</td>\n",
       "      <td>1.0</td>\n",
       "    </tr>\n",
       "    <tr>\n",
       "      <th>3</th>\n",
       "      <td>-4.987449</td>\n",
       "      <td>-2.011992</td>\n",
       "      <td>0.0</td>\n",
       "    </tr>\n",
       "    <tr>\n",
       "      <th>4</th>\n",
       "      <td>0.423128</td>\n",
       "      <td>1.634932</td>\n",
       "      <td>1.0</td>\n",
       "    </tr>\n",
       "    <tr>\n",
       "      <th>...</th>\n",
       "      <td>...</td>\n",
       "      <td>...</td>\n",
       "      <td>...</td>\n",
       "    </tr>\n",
       "    <tr>\n",
       "      <th>95</th>\n",
       "      <td>-5.519911</td>\n",
       "      <td>0.661988</td>\n",
       "      <td>0.0</td>\n",
       "    </tr>\n",
       "    <tr>\n",
       "      <th>96</th>\n",
       "      <td>-4.932582</td>\n",
       "      <td>0.071533</td>\n",
       "      <td>0.0</td>\n",
       "    </tr>\n",
       "    <tr>\n",
       "      <th>97</th>\n",
       "      <td>-4.856931</td>\n",
       "      <td>0.323236</td>\n",
       "      <td>0.0</td>\n",
       "    </tr>\n",
       "    <tr>\n",
       "      <th>98</th>\n",
       "      <td>1.460234</td>\n",
       "      <td>-0.345742</td>\n",
       "      <td>1.0</td>\n",
       "    </tr>\n",
       "    <tr>\n",
       "      <th>99</th>\n",
       "      <td>0.358262</td>\n",
       "      <td>0.064999</td>\n",
       "      <td>1.0</td>\n",
       "    </tr>\n",
       "  </tbody>\n",
       "</table>\n",
       "<p>100 rows × 3 columns</p>\n",
       "</div>"
      ],
      "text/plain": [
       "    feature1  feature2  target\n",
       "0   0.823215 -0.116976     1.0\n",
       "1   0.375148 -0.731152     1.0\n",
       "2   0.269478 -0.708106     1.0\n",
       "3  -4.987449 -2.011992     0.0\n",
       "4   0.423128  1.634932     1.0\n",
       "..       ...       ...     ...\n",
       "95 -5.519911  0.661988     0.0\n",
       "96 -4.932582  0.071533     0.0\n",
       "97 -4.856931  0.323236     0.0\n",
       "98  1.460234 -0.345742     1.0\n",
       "99  0.358262  0.064999     1.0\n",
       "\n",
       "[100 rows x 3 columns]"
      ]
     },
     "execution_count": 12,
     "metadata": {},
     "output_type": "execute_result"
    }
   ],
   "source": [
    "df"
   ]
  },
  {
   "cell_type": "code",
   "execution_count": 13,
   "id": "a7e6b9f5-7a0f-4e83-8b4c-e36683b493c8",
   "metadata": {
    "tags": []
   },
   "outputs": [
    {
     "data": {
      "image/png": "[encoded data removed]",
      "text/plain": [
       "<Figure size 640x480 with 1 Axes>"
      ]
     },
     "metadata": {},
     "output_type": "display_data"
    }
   ],
   "source": [
    "plt.scatter(df.iloc[:,0], df.iloc[:,1], c=df.iloc[:,2], cmap='winter');"
   ]
  },
  {
   "cell_type": "code",
   "execution_count": 14,
   "id": "3ac04b04-fcf2-4f4c-baaa-161f3419e2c9",
   "metadata": {
    "tags": []
   },
   "outputs": [],
   "source": [
    "from sklearn.linear_model import LogisticRegression"
   ]
  },
  {
   "cell_type": "code",
   "execution_count": 15,
   "id": "731f56e9-0f1c-4a74-aa86-7e287b76dd00",
   "metadata": {
    "tags": []
   },
   "outputs": [
    {
     "data": {
      "text/html": [
       "<style>#sk-container-id-1 {color: black;}#sk-container-id-1 pre{padding: 0;}#sk-container-id-1 div.sk-toggleable {background-color: white;}#sk-container-id-1 label.sk-toggleable__label {cursor: pointer;display: block;width: 100%;margin-bottom: 0;padding: 0.3em;box-sizing: border-box;text-align: center;}#sk-container-id-1 label.sk-toggleable__label-arrow:before {content: \"▸\";float: left;margin-right: 0.25em;color: #696969;}#sk-container-id-1 label.sk-toggleable__label-arrow:hover:before {color: black;}#sk-container-id-1 div.sk-estimator:hover label.sk-toggleable__label-arrow:before {color: black;}#sk-container-id-1 div.sk-toggleable__content {max-height: 0;max-width: 0;overflow: hidden;text-align: left;background-color: #f0f8ff;}#sk-container-id-1 div.sk-toggleable__content pre {margin: 0.2em;color: black;border-radius: 0.25em;background-color: #f0f8ff;}#sk-container-id-1 input.sk-toggleable__control:checked~div.sk-toggleable__content {max-height: 200px;max-width: 100%;overflow: auto;}#sk-container-id-1 input.sk-toggleable__control:checked~label.sk-toggleable__label-arrow:before {content: \"▾\";}#sk-container-id-1 div.sk-estimator input.sk-toggleable__control:checked~label.sk-toggleable__label {background-color: #d4ebff;}#sk-container-id-1 div.sk-label input.sk-toggleable__control:checked~label.sk-toggleable__label {background-color: #d4ebff;}#sk-container-id-1 input.sk-hidden--visually {border: 0;clip: rect(1px 1px 1px 1px);clip: rect(1px, 1px, 1px, 1px);height: 1px;margin: -1px;overflow: hidden;padding: 0;position: absolute;width: 1px;}#sk-container-id-1 div.sk-estimator {font-family: monospace;background-color: #f0f8ff;border: 1px dotted black;border-radius: 0.25em;box-sizing: border-box;margin-bottom: 0.5em;}#sk-container-id-1 div.sk-estimator:hover {background-color: #d4ebff;}#sk-container-id-1 div.sk-parallel-item::after {content: \"\";width: 100%;border-bottom: 1px solid gray;flex-grow: 1;}#sk-container-id-1 div.sk-label:hover label.sk-toggleable__label {background-color: #d4ebff;}#sk-container-id-1 div.sk-serial::before {content: \"\";position: absolute;border-left: 1px solid gray;box-sizing: border-box;top: 0;bottom: 0;left: 50%;z-index: 0;}#sk-container-id-1 div.sk-serial {display: flex;flex-direction: column;align-items: center;background-color: white;padding-right: 0.2em;padding-left: 0.2em;position: relative;}#sk-container-id-1 div.sk-item {position: relative;z-index: 1;}#sk-container-id-1 div.sk-parallel {display: flex;align-items: stretch;justify-content: center;background-color: white;position: relative;}#sk-container-id-1 div.sk-item::before, #sk-container-id-1 div.sk-parallel-item::before {content: \"\";position: absolute;border-left: 1px solid gray;box-sizing: border-box;top: 0;bottom: 0;left: 50%;z-index: -1;}#sk-container-id-1 div.sk-parallel-item {display: flex;flex-direction: column;z-index: 1;position: relative;background-color: white;}#sk-container-id-1 div.sk-parallel-item:first-child::after {align-self: flex-end;width: 50%;}#sk-container-id-1 div.sk-parallel-item:last-child::after {align-self: flex-start;width: 50%;}#sk-container-id-1 div.sk-parallel-item:only-child::after {width: 0;}#sk-container-id-1 div.sk-dashed-wrapped {border: 1px dashed gray;margin: 0 0.4em 0.5em 0.4em;box-sizing: border-box;padding-bottom: 0.4em;background-color: white;}#sk-container-id-1 div.sk-label label {font-family: monospace;font-weight: bold;display: inline-block;line-height: 1.2em;}#sk-container-id-1 div.sk-label-container {text-align: center;}#sk-container-id-1 div.sk-container {/* jupyter's `normalize.less` sets `[hidden] { display: none; }` but bootstrap.min.css set `[hidden] { display: none !important; }` so we also need the `!important` here to be able to override the default hidden behavior on the sphinx rendered scikit-learn.org. See: https://github.com/scikit-learn/scikit-learn/issues/21755 */display: inline-block !important;position: relative;}#sk-container-id-1 div.sk-text-repr-fallback {display: none;}</style><div id=\"sk-container-id-1\" class=\"sk-top-container\"><div class=\"sk-text-repr-fallback\"><pre>LogisticRegression()</pre><b>In a Jupyter environment, please rerun this cell to show the HTML representation or trust the notebook. <br />On GitHub, the HTML representation is unable to render, please try loading this page with nbviewer.org.</b></div><div class=\"sk-container\" hidden><div class=\"sk-item\"><div class=\"sk-estimator sk-toggleable\"><input class=\"sk-toggleable__control sk-hidden--visually\" id=\"sk-estimator-id-1\" type=\"checkbox\" checked><label for=\"sk-estimator-id-1\" class=\"sk-toggleable__label sk-toggleable__label-arrow\">LogisticRegression</label><div class=\"sk-toggleable__content\"><pre>LogisticRegression()</pre></div></div></div></div></div>"
      ],
      "text/plain": [
       "LogisticRegression()"
      ]
     },
     "execution_count": 15,
     "metadata": {},
     "output_type": "execute_result"
    }
   ],
   "source": [
    "lr = LogisticRegression()\n",
    "\n",
    "lr.fit(df.iloc[:,0:2], df.iloc[:,-1])"
   ]
  },
  {
   "cell_type": "code",
   "execution_count": 16,
   "id": "13a0cbd8-5171-4c01-9cd2-d0b37565df92",
   "metadata": {
    "tags": []
   },
   "outputs": [
    {
     "data": {
      "text/plain": [
       "(array([3.54861952]), array([[1.77298737, 0.0122258 ]]))"
      ]
     },
     "execution_count": 16,
     "metadata": {},
     "output_type": "execute_result"
    }
   ],
   "source": [
    "lr.intercept_, lr.coef_"
   ]
  },
  {
   "cell_type": "code",
   "execution_count": 17,
   "id": "047f6693-a007-43bb-aff7-2d598ae821be",
   "metadata": {
    "tags": []
   },
   "outputs": [
    {
     "data": {
      "text/plain": [
       "1.7729873687722042"
      ]
     },
     "execution_count": 17,
     "metadata": {},
     "output_type": "execute_result"
    }
   ],
   "source": [
    "lr.coef_[0][0]"
   ]
  },
  {
   "cell_type": "code",
   "execution_count": 18,
   "id": "0496c4b7-eb3a-4881-93d9-8a347a30304d",
   "metadata": {},
   "outputs": [],
   "source": [
    "from sklearn.preprocessing import PolynomialFeatures"
   ]
  },
  {
   "cell_type": "code",
   "execution_count": 19,
   "id": "06cef7f8-da66-4e75-ace1-dacecc6d3746",
   "metadata": {},
   "outputs": [],
   "source": [
    "X1, y1 = make_classification(n_samples=1500, n_features=2, n_informative=1, n_redundant=0, \n",
    "                          n_classes=2, n_clusters_per_class=1, random_state=41, hypercube=False, class_sep=30)"
   ]
  },
  {
   "cell_type": "code",
   "execution_count": 20,
   "id": "c4016152-f0db-4735-bfef-dfc629d1b944",
   "metadata": {
    "tags": []
   },
   "outputs": [
    {
     "data": {
      "text/plain": [
       "array([[1],\n",
       "       [1],\n",
       "       [0],\n",
       "       ...,\n",
       "       [0],\n",
       "       [0],\n",
       "       [1]])"
      ]
     },
     "execution_count": 20,
     "metadata": {},
     "output_type": "execute_result"
    }
   ],
   "source": [
    "y1 = y1.reshape(-1,1)\n",
    "y1"
   ]
  },
  {
   "cell_type": "code",
   "execution_count": 21,
   "id": "191a3443-c6e4-4473-9004-7879c17e9e1f",
   "metadata": {
    "tags": []
   },
   "outputs": [],
   "source": [
    "df1 = np.concatenate([X1,y1], axis=1)"
   ]
  },
  {
   "cell_type": "code",
   "execution_count": 22,
   "id": "bec44115-f935-45aa-ae10-27ffdb34e172",
   "metadata": {
    "tags": []
   },
   "outputs": [
    {
     "data": {
      "text/plain": [
       "array([[ 0.35398259,  0.83014195,  1.        ],\n",
       "       [ 1.27607265,  0.65865037,  1.        ],\n",
       "       [-0.21864659, -5.13001906,  0.        ],\n",
       "       ...,\n",
       "       [-0.75737937, -5.03387754,  0.        ],\n",
       "       [ 1.43453922, -5.20735172,  0.        ],\n",
       "       [ 0.60411497,  1.25270645,  1.        ]])"
      ]
     },
     "execution_count": 22,
     "metadata": {},
     "output_type": "execute_result"
    }
   ],
   "source": [
    "df1"
   ]
  },
  {
   "cell_type": "code",
   "execution_count": 23,
   "id": "877592af-79a9-4ed6-9ec0-8421fb7d214a",
   "metadata": {
    "tags": []
   },
   "outputs": [],
   "source": [
    "df1 = pd.DataFrame(df1)"
   ]
  },
  {
   "cell_type": "code",
   "execution_count": 24,
   "id": "965e2f28-312a-4574-a600-cfe80726ebf4",
   "metadata": {
    "tags": []
   },
   "outputs": [
    {
     "data": {
      "text/html": [
       "<div>\n",
       "<style scoped>\n",
       "    .dataframe tbody tr th:only-of-type {\n",
       "        vertical-align: middle;\n",
       "    }\n",
       "\n",
       "    .dataframe tbody tr th {\n",
       "        vertical-align: top;\n",
       "    }\n",
       "\n",
       "    .dataframe thead th {\n",
       "        text-align: right;\n",
       "    }\n",
       "</style>\n",
       "<table border=\"1\" class=\"dataframe\">\n",
       "  <thead>\n",
       "    <tr style=\"text-align: right;\">\n",
       "      <th></th>\n",
       "      <th>0</th>\n",
       "      <th>1</th>\n",
       "      <th>2</th>\n",
       "    </tr>\n",
       "  </thead>\n",
       "  <tbody>\n",
       "    <tr>\n",
       "      <th>0</th>\n",
       "      <td>0.353983</td>\n",
       "      <td>0.830142</td>\n",
       "      <td>1.0</td>\n",
       "    </tr>\n",
       "    <tr>\n",
       "      <th>1</th>\n",
       "      <td>1.276073</td>\n",
       "      <td>0.658650</td>\n",
       "      <td>1.0</td>\n",
       "    </tr>\n",
       "    <tr>\n",
       "      <th>2</th>\n",
       "      <td>-0.218647</td>\n",
       "      <td>-5.130019</td>\n",
       "      <td>0.0</td>\n",
       "    </tr>\n",
       "    <tr>\n",
       "      <th>3</th>\n",
       "      <td>0.673042</td>\n",
       "      <td>0.414146</td>\n",
       "      <td>1.0</td>\n",
       "    </tr>\n",
       "    <tr>\n",
       "      <th>4</th>\n",
       "      <td>0.408727</td>\n",
       "      <td>-5.081356</td>\n",
       "      <td>0.0</td>\n",
       "    </tr>\n",
       "    <tr>\n",
       "      <th>...</th>\n",
       "      <td>...</td>\n",
       "      <td>...</td>\n",
       "      <td>...</td>\n",
       "    </tr>\n",
       "    <tr>\n",
       "      <th>1495</th>\n",
       "      <td>-1.698007</td>\n",
       "      <td>1.132990</td>\n",
       "      <td>1.0</td>\n",
       "    </tr>\n",
       "    <tr>\n",
       "      <th>1496</th>\n",
       "      <td>-0.495010</td>\n",
       "      <td>1.802132</td>\n",
       "      <td>1.0</td>\n",
       "    </tr>\n",
       "    <tr>\n",
       "      <th>1497</th>\n",
       "      <td>-0.757379</td>\n",
       "      <td>-5.033878</td>\n",
       "      <td>0.0</td>\n",
       "    </tr>\n",
       "    <tr>\n",
       "      <th>1498</th>\n",
       "      <td>1.434539</td>\n",
       "      <td>-5.207352</td>\n",
       "      <td>0.0</td>\n",
       "    </tr>\n",
       "    <tr>\n",
       "      <th>1499</th>\n",
       "      <td>0.604115</td>\n",
       "      <td>1.252706</td>\n",
       "      <td>1.0</td>\n",
       "    </tr>\n",
       "  </tbody>\n",
       "</table>\n",
       "<p>1500 rows × 3 columns</p>\n",
       "</div>"
      ],
      "text/plain": [
       "             0         1    2\n",
       "0     0.353983  0.830142  1.0\n",
       "1     1.276073  0.658650  1.0\n",
       "2    -0.218647 -5.130019  0.0\n",
       "3     0.673042  0.414146  1.0\n",
       "4     0.408727 -5.081356  0.0\n",
       "...        ...       ...  ...\n",
       "1495 -1.698007  1.132990  1.0\n",
       "1496 -0.495010  1.802132  1.0\n",
       "1497 -0.757379 -5.033878  0.0\n",
       "1498  1.434539 -5.207352  0.0\n",
       "1499  0.604115  1.252706  1.0\n",
       "\n",
       "[1500 rows x 3 columns]"
      ]
     },
     "execution_count": 24,
     "metadata": {},
     "output_type": "execute_result"
    }
   ],
   "source": [
    "df1"
   ]
  },
  {
   "cell_type": "code",
   "execution_count": 25,
   "id": "110d4fc5-820c-4dc8-8acd-d9eef722d2db",
   "metadata": {
    "tags": []
   },
   "outputs": [],
   "source": [
    "from sklearn.model_selection import train_test_split"
   ]
  },
  {
   "cell_type": "code",
   "execution_count": 26,
   "id": "ad4aa017-7af8-46f9-aa8d-064fc76c8258",
   "metadata": {
    "tags": []
   },
   "outputs": [],
   "source": [
    "X_tr, X_te, y_tr, y_te = train_test_split(X1, y1, test_size=0.2, random_state=42)"
   ]
  },
  {
   "cell_type": "code",
   "execution_count": 27,
   "id": "7e747088-8208-430f-be47-a6b98696b9bb",
   "metadata": {
    "tags": []
   },
   "outputs": [],
   "source": [
    "poly = PolynomialFeatures(degree=2, include_bias=True)"
   ]
  },
  {
   "cell_type": "code",
   "execution_count": 28,
   "id": "81ba163a-7740-46f1-aeff-34d17b37e4af",
   "metadata": {
    "tags": []
   },
   "outputs": [],
   "source": [
    "X_tr_trans = poly.fit_transform(X_tr)\n",
    "X_te_trans = poly.transform(X_te)"
   ]
  },
  {
   "cell_type": "code",
   "execution_count": 29,
   "id": "85c611a0-aa6d-4966-baf0-5a44cb4d7940",
   "metadata": {
    "tags": []
   },
   "outputs": [
    {
     "data": {
      "text/plain": [
       "(1200, 6)"
      ]
     },
     "execution_count": 29,
     "metadata": {},
     "output_type": "execute_result"
    }
   ],
   "source": [
    "X_tr_trans.shape"
   ]
  },
  {
   "cell_type": "code",
   "execution_count": 30,
   "id": "a935ddbb-25f5-4fdb-8b76-55f1c6d375fe",
   "metadata": {
    "tags": []
   },
   "outputs": [
    {
     "data": {
      "text/plain": [
       "(1200, 2)"
      ]
     },
     "execution_count": 30,
     "metadata": {},
     "output_type": "execute_result"
    }
   ],
   "source": [
    "X_tr.shape"
   ]
  },
  {
   "cell_type": "code",
   "execution_count": 31,
   "id": "78aea3c4-9c97-4f32-aba5-6cc124b26c52",
   "metadata": {
    "tags": []
   },
   "outputs": [],
   "source": [
    "# the shape is changed for X_train data, earlier it was 2 columns and now there are 6 columns"
   ]
  },
  {
   "cell_type": "code",
   "execution_count": 32,
   "id": "b629ab9c-ca4d-45ca-9fc7-43909af45e20",
   "metadata": {
    "tags": []
   },
   "outputs": [],
   "source": [
    "# let's dive into it like how it was changed\n",
    "\n",
    "# so if I make it a degree 2 \n",
    "\n",
    "# this means that my column can we rewrite as y = β0 + β1 * x + β2 * x ^ 2"
   ]
  },
  {
   "cell_type": "code",
   "execution_count": 33,
   "id": "da9abd75-99f8-4f5e-ab5b-cee750acbfab",
   "metadata": {
    "tags": []
   },
   "outputs": [],
   "source": [
    "# this means that in place of one column now we will be having 3 columns"
   ]
  },
  {
   "cell_type": "markdown",
   "id": "3609b0dc-3cca-4f9b-95e1-1212f7020cfe",
   "metadata": {},
   "source": [
    "### if degree is 2 and also features are two"
   ]
  },
  {
   "cell_type": "code",
   "execution_count": 39,
   "id": "89dc4b28-4450-4d10-9215-4df0faa664ae",
   "metadata": {
    "tags": []
   },
   "outputs": [],
   "source": [
    "# y = b0 + b1*x1 + b2*x2 + b3*x3 + b4*x1^2 + b5*x2^2 + b6*x3^2 + b7*x1*x2 + b8*x1*x3 + b9*x2*x3 + E"
   ]
  },
  {
   "cell_type": "markdown",
   "id": "fe80e34e-8b24-4dc0-b57f-ace745d4c52e",
   "metadata": {
    "tags": []
   },
   "source": [
    "#### to test it even better let's make it a dataframe and then see if we have a column whose values are just 1's"
   ]
  },
  {
   "cell_type": "code",
   "execution_count": 34,
   "id": "de728325-70a3-4f97-8038-c04e2cd88f92",
   "metadata": {
    "tags": []
   },
   "outputs": [],
   "source": [
    "X_tr_trans2 = pd.DataFrame(X_tr_trans)"
   ]
  },
  {
   "cell_type": "code",
   "execution_count": 35,
   "id": "7c8bb226-eb11-4aed-812a-0e46e8b85463",
   "metadata": {
    "tags": []
   },
   "outputs": [
    {
     "data": {
      "text/html": [
       "<div>\n",
       "<style scoped>\n",
       "    .dataframe tbody tr th:only-of-type {\n",
       "        vertical-align: middle;\n",
       "    }\n",
       "\n",
       "    .dataframe tbody tr th {\n",
       "        vertical-align: top;\n",
       "    }\n",
       "\n",
       "    .dataframe thead th {\n",
       "        text-align: right;\n",
       "    }\n",
       "</style>\n",
       "<table border=\"1\" class=\"dataframe\">\n",
       "  <thead>\n",
       "    <tr style=\"text-align: right;\">\n",
       "      <th></th>\n",
       "      <th>0</th>\n",
       "      <th>1</th>\n",
       "      <th>2</th>\n",
       "      <th>3</th>\n",
       "      <th>4</th>\n",
       "      <th>5</th>\n",
       "    </tr>\n",
       "  </thead>\n",
       "  <tbody>\n",
       "    <tr>\n",
       "      <th>0</th>\n",
       "      <td>1.0</td>\n",
       "      <td>0.444985</td>\n",
       "      <td>0.911094</td>\n",
       "      <td>0.198012</td>\n",
       "      <td>0.405423</td>\n",
       "      <td>0.830093</td>\n",
       "    </tr>\n",
       "    <tr>\n",
       "      <th>1</th>\n",
       "      <td>1.0</td>\n",
       "      <td>0.711928</td>\n",
       "      <td>2.589346</td>\n",
       "      <td>0.506841</td>\n",
       "      <td>1.843427</td>\n",
       "      <td>6.704714</td>\n",
       "    </tr>\n",
       "    <tr>\n",
       "      <th>2</th>\n",
       "      <td>1.0</td>\n",
       "      <td>1.193193</td>\n",
       "      <td>-5.195500</td>\n",
       "      <td>1.423710</td>\n",
       "      <td>-6.199236</td>\n",
       "      <td>26.993220</td>\n",
       "    </tr>\n",
       "    <tr>\n",
       "      <th>3</th>\n",
       "      <td>1.0</td>\n",
       "      <td>-1.106790</td>\n",
       "      <td>0.470645</td>\n",
       "      <td>1.224984</td>\n",
       "      <td>-0.520905</td>\n",
       "      <td>0.221507</td>\n",
       "    </tr>\n",
       "    <tr>\n",
       "      <th>4</th>\n",
       "      <td>1.0</td>\n",
       "      <td>0.428315</td>\n",
       "      <td>-5.122490</td>\n",
       "      <td>0.183454</td>\n",
       "      <td>-2.194038</td>\n",
       "      <td>26.239902</td>\n",
       "    </tr>\n",
       "    <tr>\n",
       "      <th>...</th>\n",
       "      <td>...</td>\n",
       "      <td>...</td>\n",
       "      <td>...</td>\n",
       "      <td>...</td>\n",
       "      <td>...</td>\n",
       "      <td>...</td>\n",
       "    </tr>\n",
       "    <tr>\n",
       "      <th>1195</th>\n",
       "      <td>1.0</td>\n",
       "      <td>-0.098822</td>\n",
       "      <td>0.550793</td>\n",
       "      <td>0.009766</td>\n",
       "      <td>-0.054431</td>\n",
       "      <td>0.303373</td>\n",
       "    </tr>\n",
       "    <tr>\n",
       "      <th>1196</th>\n",
       "      <td>1.0</td>\n",
       "      <td>-0.391448</td>\n",
       "      <td>0.509708</td>\n",
       "      <td>0.153231</td>\n",
       "      <td>-0.199524</td>\n",
       "      <td>0.259802</td>\n",
       "    </tr>\n",
       "    <tr>\n",
       "      <th>1197</th>\n",
       "      <td>1.0</td>\n",
       "      <td>0.360275</td>\n",
       "      <td>-5.041010</td>\n",
       "      <td>0.129798</td>\n",
       "      <td>-1.816150</td>\n",
       "      <td>25.411779</td>\n",
       "    </tr>\n",
       "    <tr>\n",
       "      <th>1198</th>\n",
       "      <td>1.0</td>\n",
       "      <td>0.130636</td>\n",
       "      <td>-5.040117</td>\n",
       "      <td>0.017066</td>\n",
       "      <td>-0.658420</td>\n",
       "      <td>25.402775</td>\n",
       "    </tr>\n",
       "    <tr>\n",
       "      <th>1199</th>\n",
       "      <td>1.0</td>\n",
       "      <td>-0.511893</td>\n",
       "      <td>0.982551</td>\n",
       "      <td>0.262035</td>\n",
       "      <td>-0.502961</td>\n",
       "      <td>0.965407</td>\n",
       "    </tr>\n",
       "  </tbody>\n",
       "</table>\n",
       "<p>1200 rows × 6 columns</p>\n",
       "</div>"
      ],
      "text/plain": [
       "        0         1         2         3         4          5\n",
       "0     1.0  0.444985  0.911094  0.198012  0.405423   0.830093\n",
       "1     1.0  0.711928  2.589346  0.506841  1.843427   6.704714\n",
       "2     1.0  1.193193 -5.195500  1.423710 -6.199236  26.993220\n",
       "3     1.0 -1.106790  0.470645  1.224984 -0.520905   0.221507\n",
       "4     1.0  0.428315 -5.122490  0.183454 -2.194038  26.239902\n",
       "...   ...       ...       ...       ...       ...        ...\n",
       "1195  1.0 -0.098822  0.550793  0.009766 -0.054431   0.303373\n",
       "1196  1.0 -0.391448  0.509708  0.153231 -0.199524   0.259802\n",
       "1197  1.0  0.360275 -5.041010  0.129798 -1.816150  25.411779\n",
       "1198  1.0  0.130636 -5.040117  0.017066 -0.658420  25.402775\n",
       "1199  1.0 -0.511893  0.982551  0.262035 -0.502961   0.965407\n",
       "\n",
       "[1200 rows x 6 columns]"
      ]
     },
     "execution_count": 35,
     "metadata": {},
     "output_type": "execute_result"
    }
   ],
   "source": [
    "X_tr_trans2"
   ]
  },
  {
   "cell_type": "code",
   "execution_count": 36,
   "id": "671a97ab-9d73-496d-8705-bd951970a65d",
   "metadata": {
    "tags": []
   },
   "outputs": [],
   "source": [
    "X_te_trans2 = pd.DataFrame(X_te_trans)"
   ]
  },
  {
   "cell_type": "code",
   "execution_count": 38,
   "id": "0a659f35-5a6d-425b-b417-46676a234c7c",
   "metadata": {
    "tags": []
   },
   "outputs": [
    {
     "data": {
      "text/html": [
       "<div>\n",
       "<style scoped>\n",
       "    .dataframe tbody tr th:only-of-type {\n",
       "        vertical-align: middle;\n",
       "    }\n",
       "\n",
       "    .dataframe tbody tr th {\n",
       "        vertical-align: top;\n",
       "    }\n",
       "\n",
       "    .dataframe thead th {\n",
       "        text-align: right;\n",
       "    }\n",
       "</style>\n",
       "<table border=\"1\" class=\"dataframe\">\n",
       "  <thead>\n",
       "    <tr style=\"text-align: right;\">\n",
       "      <th></th>\n",
       "      <th>0</th>\n",
       "      <th>1</th>\n",
       "      <th>2</th>\n",
       "      <th>3</th>\n",
       "      <th>4</th>\n",
       "      <th>5</th>\n",
       "    </tr>\n",
       "  </thead>\n",
       "  <tbody>\n",
       "    <tr>\n",
       "      <th>0</th>\n",
       "      <td>1.0</td>\n",
       "      <td>1.528765</td>\n",
       "      <td>-5.068335</td>\n",
       "      <td>2.337123</td>\n",
       "      <td>-7.748294</td>\n",
       "      <td>25.688015</td>\n",
       "    </tr>\n",
       "    <tr>\n",
       "      <th>1</th>\n",
       "      <td>1.0</td>\n",
       "      <td>0.731388</td>\n",
       "      <td>-5.176022</td>\n",
       "      <td>0.534929</td>\n",
       "      <td>-3.785682</td>\n",
       "      <td>26.791201</td>\n",
       "    </tr>\n",
       "    <tr>\n",
       "      <th>2</th>\n",
       "      <td>1.0</td>\n",
       "      <td>0.501856</td>\n",
       "      <td>-5.157266</td>\n",
       "      <td>0.251859</td>\n",
       "      <td>-2.588203</td>\n",
       "      <td>26.597392</td>\n",
       "    </tr>\n",
       "    <tr>\n",
       "      <th>3</th>\n",
       "      <td>1.0</td>\n",
       "      <td>1.099847</td>\n",
       "      <td>2.283609</td>\n",
       "      <td>1.209664</td>\n",
       "      <td>2.511621</td>\n",
       "      <td>5.214871</td>\n",
       "    </tr>\n",
       "    <tr>\n",
       "      <th>4</th>\n",
       "      <td>1.0</td>\n",
       "      <td>0.821332</td>\n",
       "      <td>0.982544</td>\n",
       "      <td>0.674586</td>\n",
       "      <td>0.806994</td>\n",
       "      <td>0.965392</td>\n",
       "    </tr>\n",
       "    <tr>\n",
       "      <th>...</th>\n",
       "      <td>...</td>\n",
       "      <td>...</td>\n",
       "      <td>...</td>\n",
       "      <td>...</td>\n",
       "      <td>...</td>\n",
       "      <td>...</td>\n",
       "    </tr>\n",
       "    <tr>\n",
       "      <th>295</th>\n",
       "      <td>1.0</td>\n",
       "      <td>0.447770</td>\n",
       "      <td>1.178032</td>\n",
       "      <td>0.200498</td>\n",
       "      <td>0.527488</td>\n",
       "      <td>1.387760</td>\n",
       "    </tr>\n",
       "    <tr>\n",
       "      <th>296</th>\n",
       "      <td>1.0</td>\n",
       "      <td>-0.586824</td>\n",
       "      <td>-5.075116</td>\n",
       "      <td>0.344362</td>\n",
       "      <td>2.978197</td>\n",
       "      <td>25.756798</td>\n",
       "    </tr>\n",
       "    <tr>\n",
       "      <th>297</th>\n",
       "      <td>1.0</td>\n",
       "      <td>-0.815177</td>\n",
       "      <td>0.704940</td>\n",
       "      <td>0.664513</td>\n",
       "      <td>-0.574651</td>\n",
       "      <td>0.496941</td>\n",
       "    </tr>\n",
       "    <tr>\n",
       "      <th>298</th>\n",
       "      <td>1.0</td>\n",
       "      <td>0.358050</td>\n",
       "      <td>-5.090000</td>\n",
       "      <td>0.128200</td>\n",
       "      <td>-1.822472</td>\n",
       "      <td>25.908096</td>\n",
       "    </tr>\n",
       "    <tr>\n",
       "      <th>299</th>\n",
       "      <td>1.0</td>\n",
       "      <td>0.266696</td>\n",
       "      <td>-5.253560</td>\n",
       "      <td>0.071127</td>\n",
       "      <td>-1.401103</td>\n",
       "      <td>27.599890</td>\n",
       "    </tr>\n",
       "  </tbody>\n",
       "</table>\n",
       "<p>300 rows × 6 columns</p>\n",
       "</div>"
      ],
      "text/plain": [
       "       0         1         2         3         4          5\n",
       "0    1.0  1.528765 -5.068335  2.337123 -7.748294  25.688015\n",
       "1    1.0  0.731388 -5.176022  0.534929 -3.785682  26.791201\n",
       "2    1.0  0.501856 -5.157266  0.251859 -2.588203  26.597392\n",
       "3    1.0  1.099847  2.283609  1.209664  2.511621   5.214871\n",
       "4    1.0  0.821332  0.982544  0.674586  0.806994   0.965392\n",
       "..   ...       ...       ...       ...       ...        ...\n",
       "295  1.0  0.447770  1.178032  0.200498  0.527488   1.387760\n",
       "296  1.0 -0.586824 -5.075116  0.344362  2.978197  25.756798\n",
       "297  1.0 -0.815177  0.704940  0.664513 -0.574651   0.496941\n",
       "298  1.0  0.358050 -5.090000  0.128200 -1.822472  25.908096\n",
       "299  1.0  0.266696 -5.253560  0.071127 -1.401103  27.599890\n",
       "\n",
       "[300 rows x 6 columns]"
      ]
     },
     "execution_count": 38,
     "metadata": {},
     "output_type": "execute_result"
    }
   ],
   "source": [
    "X_te_trans2"
   ]
  },
  {
   "cell_type": "markdown",
   "id": "2f85d36e-c5e6-4d3a-b82e-a23a0d779311",
   "metadata": {},
   "source": [
    "### Here when we set include_bias = False, this means that we setting values of b0 = 0, which is not correct in most cases and we should always include a bias term in our algorithm"
   ]
  },
  {
   "cell_type": "code",
   "execution_count": 45,
   "id": "d34028b0-055c-47af-97a3-30957c4126ef",
   "metadata": {
    "tags": []
   },
   "outputs": [],
   "source": [
    "poly2 = PolynomialFeatures(degree=3, include_bias=False)"
   ]
  },
  {
   "cell_type": "code",
   "execution_count": 46,
   "id": "901b357a-6710-416f-8d23-2fa457ed6ba7",
   "metadata": {
    "tags": []
   },
   "outputs": [],
   "source": [
    "X_tr_trans3 = poly2.fit_transform(X_tr)"
   ]
  },
  {
   "cell_type": "code",
   "execution_count": 47,
   "id": "cc8b9499-85b3-462b-8e22-04f8ef55f4ca",
   "metadata": {
    "tags": []
   },
   "outputs": [],
   "source": [
    "X_tr_trans3 = pd.DataFrame(X_tr_trans3)"
   ]
  },
  {
   "cell_type": "code",
   "execution_count": 48,
   "id": "4b3a773a-a52c-4004-a11e-cb32b3b80cef",
   "metadata": {
    "tags": []
   },
   "outputs": [
    {
     "data": {
      "text/html": [
       "<div>\n",
       "<style scoped>\n",
       "    .dataframe tbody tr th:only-of-type {\n",
       "        vertical-align: middle;\n",
       "    }\n",
       "\n",
       "    .dataframe tbody tr th {\n",
       "        vertical-align: top;\n",
       "    }\n",
       "\n",
       "    .dataframe thead th {\n",
       "        text-align: right;\n",
       "    }\n",
       "</style>\n",
       "<table border=\"1\" class=\"dataframe\">\n",
       "  <thead>\n",
       "    <tr style=\"text-align: right;\">\n",
       "      <th></th>\n",
       "      <th>0</th>\n",
       "      <th>1</th>\n",
       "      <th>2</th>\n",
       "      <th>3</th>\n",
       "      <th>4</th>\n",
       "      <th>5</th>\n",
       "      <th>6</th>\n",
       "      <th>7</th>\n",
       "      <th>8</th>\n",
       "    </tr>\n",
       "  </thead>\n",
       "  <tbody>\n",
       "    <tr>\n",
       "      <th>0</th>\n",
       "      <td>0.444985</td>\n",
       "      <td>0.911094</td>\n",
       "      <td>0.198012</td>\n",
       "      <td>0.405423</td>\n",
       "      <td>0.830093</td>\n",
       "      <td>0.088112</td>\n",
       "      <td>0.180407</td>\n",
       "      <td>0.369379</td>\n",
       "      <td>0.756293</td>\n",
       "    </tr>\n",
       "    <tr>\n",
       "      <th>1</th>\n",
       "      <td>0.711928</td>\n",
       "      <td>2.589346</td>\n",
       "      <td>0.506841</td>\n",
       "      <td>1.843427</td>\n",
       "      <td>6.704714</td>\n",
       "      <td>0.360834</td>\n",
       "      <td>1.312387</td>\n",
       "      <td>4.773271</td>\n",
       "      <td>17.360825</td>\n",
       "    </tr>\n",
       "    <tr>\n",
       "      <th>2</th>\n",
       "      <td>1.193193</td>\n",
       "      <td>-5.195500</td>\n",
       "      <td>1.423710</td>\n",
       "      <td>-6.199236</td>\n",
       "      <td>26.993220</td>\n",
       "      <td>1.698761</td>\n",
       "      <td>-7.396886</td>\n",
       "      <td>32.208128</td>\n",
       "      <td>-140.243271</td>\n",
       "    </tr>\n",
       "    <tr>\n",
       "      <th>3</th>\n",
       "      <td>-1.106790</td>\n",
       "      <td>0.470645</td>\n",
       "      <td>1.224984</td>\n",
       "      <td>-0.520905</td>\n",
       "      <td>0.221507</td>\n",
       "      <td>-1.355801</td>\n",
       "      <td>0.576533</td>\n",
       "      <td>-0.245161</td>\n",
       "      <td>0.104251</td>\n",
       "    </tr>\n",
       "    <tr>\n",
       "      <th>4</th>\n",
       "      <td>0.428315</td>\n",
       "      <td>-5.122490</td>\n",
       "      <td>0.183454</td>\n",
       "      <td>-2.194038</td>\n",
       "      <td>26.239902</td>\n",
       "      <td>0.078576</td>\n",
       "      <td>-0.939739</td>\n",
       "      <td>11.238937</td>\n",
       "      <td>-134.413632</td>\n",
       "    </tr>\n",
       "    <tr>\n",
       "      <th>...</th>\n",
       "      <td>...</td>\n",
       "      <td>...</td>\n",
       "      <td>...</td>\n",
       "      <td>...</td>\n",
       "      <td>...</td>\n",
       "      <td>...</td>\n",
       "      <td>...</td>\n",
       "      <td>...</td>\n",
       "      <td>...</td>\n",
       "    </tr>\n",
       "    <tr>\n",
       "      <th>1195</th>\n",
       "      <td>-0.098822</td>\n",
       "      <td>0.550793</td>\n",
       "      <td>0.009766</td>\n",
       "      <td>-0.054431</td>\n",
       "      <td>0.303373</td>\n",
       "      <td>-0.000965</td>\n",
       "      <td>0.005379</td>\n",
       "      <td>-0.029980</td>\n",
       "      <td>0.167096</td>\n",
       "    </tr>\n",
       "    <tr>\n",
       "      <th>1196</th>\n",
       "      <td>-0.391448</td>\n",
       "      <td>0.509708</td>\n",
       "      <td>0.153231</td>\n",
       "      <td>-0.199524</td>\n",
       "      <td>0.259802</td>\n",
       "      <td>-0.059982</td>\n",
       "      <td>0.078103</td>\n",
       "      <td>-0.101699</td>\n",
       "      <td>0.132423</td>\n",
       "    </tr>\n",
       "    <tr>\n",
       "      <th>1197</th>\n",
       "      <td>0.360275</td>\n",
       "      <td>-5.041010</td>\n",
       "      <td>0.129798</td>\n",
       "      <td>-1.816150</td>\n",
       "      <td>25.411779</td>\n",
       "      <td>0.046763</td>\n",
       "      <td>-0.654313</td>\n",
       "      <td>9.155228</td>\n",
       "      <td>-128.101027</td>\n",
       "    </tr>\n",
       "    <tr>\n",
       "      <th>1198</th>\n",
       "      <td>0.130636</td>\n",
       "      <td>-5.040117</td>\n",
       "      <td>0.017066</td>\n",
       "      <td>-0.658420</td>\n",
       "      <td>25.402775</td>\n",
       "      <td>0.002229</td>\n",
       "      <td>-0.086013</td>\n",
       "      <td>3.318512</td>\n",
       "      <td>-128.032947</td>\n",
       "    </tr>\n",
       "    <tr>\n",
       "      <th>1199</th>\n",
       "      <td>-0.511893</td>\n",
       "      <td>0.982551</td>\n",
       "      <td>0.262035</td>\n",
       "      <td>-0.502961</td>\n",
       "      <td>0.965407</td>\n",
       "      <td>-0.134134</td>\n",
       "      <td>0.257462</td>\n",
       "      <td>-0.494185</td>\n",
       "      <td>0.948562</td>\n",
       "    </tr>\n",
       "  </tbody>\n",
       "</table>\n",
       "<p>1200 rows × 9 columns</p>\n",
       "</div>"
      ],
      "text/plain": [
       "             0         1         2         3          4         5         6  \\\n",
       "0     0.444985  0.911094  0.198012  0.405423   0.830093  0.088112  0.180407   \n",
       "1     0.711928  2.589346  0.506841  1.843427   6.704714  0.360834  1.312387   \n",
       "2     1.193193 -5.195500  1.423710 -6.199236  26.993220  1.698761 -7.396886   \n",
       "3    -1.106790  0.470645  1.224984 -0.520905   0.221507 -1.355801  0.576533   \n",
       "4     0.428315 -5.122490  0.183454 -2.194038  26.239902  0.078576 -0.939739   \n",
       "...        ...       ...       ...       ...        ...       ...       ...   \n",
       "1195 -0.098822  0.550793  0.009766 -0.054431   0.303373 -0.000965  0.005379   \n",
       "1196 -0.391448  0.509708  0.153231 -0.199524   0.259802 -0.059982  0.078103   \n",
       "1197  0.360275 -5.041010  0.129798 -1.816150  25.411779  0.046763 -0.654313   \n",
       "1198  0.130636 -5.040117  0.017066 -0.658420  25.402775  0.002229 -0.086013   \n",
       "1199 -0.511893  0.982551  0.262035 -0.502961   0.965407 -0.134134  0.257462   \n",
       "\n",
       "              7           8  \n",
       "0      0.369379    0.756293  \n",
       "1      4.773271   17.360825  \n",
       "2     32.208128 -140.243271  \n",
       "3     -0.245161    0.104251  \n",
       "4     11.238937 -134.413632  \n",
       "...         ...         ...  \n",
       "1195  -0.029980    0.167096  \n",
       "1196  -0.101699    0.132423  \n",
       "1197   9.155228 -128.101027  \n",
       "1198   3.318512 -128.032947  \n",
       "1199  -0.494185    0.948562  \n",
       "\n",
       "[1200 rows x 9 columns]"
      ]
     },
     "execution_count": 48,
     "metadata": {},
     "output_type": "execute_result"
    }
   ],
   "source": [
    "X_tr_trans3"
   ]
  },
  {
   "cell_type": "markdown",
   "id": "a20f22fd-8e0f-44d6-a114-d5c6531bb71f",
   "metadata": {},
   "source": [
    "# Now coming on the Logistic Regression part"
   ]
  },
  {
   "cell_type": "code",
   "execution_count": 49,
   "id": "6a036539-d45f-40b4-9dfe-2ade8e41f7ea",
   "metadata": {
    "tags": []
   },
   "outputs": [],
   "source": [
    "from sklearn.linear_model import LogisticRegression"
   ]
  },
  {
   "cell_type": "code",
   "execution_count": 50,
   "id": "bfe9cefd-4afe-4a66-ba3d-79d602fd0248",
   "metadata": {
    "tags": []
   },
   "outputs": [],
   "source": [
    "lor = LogisticRegression(penalty='none', solver='sag')"
   ]
  },
  {
   "cell_type": "code",
   "execution_count": 54,
   "id": "bec02a41-8b41-4c01-b849-c02ab3ebd1c5",
   "metadata": {
    "tags": []
   },
   "outputs": [
    {
     "name": "stderr",
     "output_type": "stream",
     "text": [
      "C:\\Users\\PK419HT\\AppData\\Local\\anaconda3\\Lib\\site-packages\\sklearn\\linear_model\\_logistic.py:1182: FutureWarning: `penalty='none'`has been deprecated in 1.2 and will be removed in 1.4. To keep the past behaviour, set `penalty=None`.\n",
      "  warnings.warn(\n"
     ]
    },
    {
     "data": {
      "text/html": [
       "<style>#sk-container-id-2 {color: black;}#sk-container-id-2 pre{padding: 0;}#sk-container-id-2 div.sk-toggleable {background-color: white;}#sk-container-id-2 label.sk-toggleable__label {cursor: pointer;display: block;width: 100%;margin-bottom: 0;padding: 0.3em;box-sizing: border-box;text-align: center;}#sk-container-id-2 label.sk-toggleable__label-arrow:before {content: \"▸\";float: left;margin-right: 0.25em;color: #696969;}#sk-container-id-2 label.sk-toggleable__label-arrow:hover:before {color: black;}#sk-container-id-2 div.sk-estimator:hover label.sk-toggleable__label-arrow:before {color: black;}#sk-container-id-2 div.sk-toggleable__content {max-height: 0;max-width: 0;overflow: hidden;text-align: left;background-color: #f0f8ff;}#sk-container-id-2 div.sk-toggleable__content pre {margin: 0.2em;color: black;border-radius: 0.25em;background-color: #f0f8ff;}#sk-container-id-2 input.sk-toggleable__control:checked~div.sk-toggleable__content {max-height: 200px;max-width: 100%;overflow: auto;}#sk-container-id-2 input.sk-toggleable__control:checked~label.sk-toggleable__label-arrow:before {content: \"▾\";}#sk-container-id-2 div.sk-estimator input.sk-toggleable__control:checked~label.sk-toggleable__label {background-color: #d4ebff;}#sk-container-id-2 div.sk-label input.sk-toggleable__control:checked~label.sk-toggleable__label {background-color: #d4ebff;}#sk-container-id-2 input.sk-hidden--visually {border: 0;clip: rect(1px 1px 1px 1px);clip: rect(1px, 1px, 1px, 1px);height: 1px;margin: -1px;overflow: hidden;padding: 0;position: absolute;width: 1px;}#sk-container-id-2 div.sk-estimator {font-family: monospace;background-color: #f0f8ff;border: 1px dotted black;border-radius: 0.25em;box-sizing: border-box;margin-bottom: 0.5em;}#sk-container-id-2 div.sk-estimator:hover {background-color: #d4ebff;}#sk-container-id-2 div.sk-parallel-item::after {content: \"\";width: 100%;border-bottom: 1px solid gray;flex-grow: 1;}#sk-container-id-2 div.sk-label:hover label.sk-toggleable__label {background-color: #d4ebff;}#sk-container-id-2 div.sk-serial::before {content: \"\";position: absolute;border-left: 1px solid gray;box-sizing: border-box;top: 0;bottom: 0;left: 50%;z-index: 0;}#sk-container-id-2 div.sk-serial {display: flex;flex-direction: column;align-items: center;background-color: white;padding-right: 0.2em;padding-left: 0.2em;position: relative;}#sk-container-id-2 div.sk-item {position: relative;z-index: 1;}#sk-container-id-2 div.sk-parallel {display: flex;align-items: stretch;justify-content: center;background-color: white;position: relative;}#sk-container-id-2 div.sk-item::before, #sk-container-id-2 div.sk-parallel-item::before {content: \"\";position: absolute;border-left: 1px solid gray;box-sizing: border-box;top: 0;bottom: 0;left: 50%;z-index: -1;}#sk-container-id-2 div.sk-parallel-item {display: flex;flex-direction: column;z-index: 1;position: relative;background-color: white;}#sk-container-id-2 div.sk-parallel-item:first-child::after {align-self: flex-end;width: 50%;}#sk-container-id-2 div.sk-parallel-item:last-child::after {align-self: flex-start;width: 50%;}#sk-container-id-2 div.sk-parallel-item:only-child::after {width: 0;}#sk-container-id-2 div.sk-dashed-wrapped {border: 1px dashed gray;margin: 0 0.4em 0.5em 0.4em;box-sizing: border-box;padding-bottom: 0.4em;background-color: white;}#sk-container-id-2 div.sk-label label {font-family: monospace;font-weight: bold;display: inline-block;line-height: 1.2em;}#sk-container-id-2 div.sk-label-container {text-align: center;}#sk-container-id-2 div.sk-container {/* jupyter's `normalize.less` sets `[hidden] { display: none; }` but bootstrap.min.css set `[hidden] { display: none !important; }` so we also need the `!important` here to be able to override the default hidden behavior on the sphinx rendered scikit-learn.org. See: https://github.com/scikit-learn/scikit-learn/issues/21755 */display: inline-block !important;position: relative;}#sk-container-id-2 div.sk-text-repr-fallback {display: none;}</style><div id=\"sk-container-id-2\" class=\"sk-top-container\"><div class=\"sk-text-repr-fallback\"><pre>LogisticRegression(penalty=&#x27;none&#x27;, solver=&#x27;sag&#x27;)</pre><b>In a Jupyter environment, please rerun this cell to show the HTML representation or trust the notebook. <br />On GitHub, the HTML representation is unable to render, please try loading this page with nbviewer.org.</b></div><div class=\"sk-container\" hidden><div class=\"sk-item\"><div class=\"sk-estimator sk-toggleable\"><input class=\"sk-toggleable__control sk-hidden--visually\" id=\"sk-estimator-id-2\" type=\"checkbox\" checked><label for=\"sk-estimator-id-2\" class=\"sk-toggleable__label sk-toggleable__label-arrow\">LogisticRegression</label><div class=\"sk-toggleable__content\"><pre>LogisticRegression(penalty=&#x27;none&#x27;, solver=&#x27;sag&#x27;)</pre></div></div></div></div></div>"
      ],
      "text/plain": [
       "LogisticRegression(penalty='none', solver='sag')"
      ]
     },
     "execution_count": 54,
     "metadata": {},
     "output_type": "execute_result"
    }
   ],
   "source": [
    "lor.fit(df1.iloc[:,0:2], df1.iloc[:,-1])"
   ]
  },
  {
   "cell_type": "code",
   "execution_count": 57,
   "id": "6ccd7c46-01d2-49aa-a0a7-a445d876ec7d",
   "metadata": {
    "tags": []
   },
   "outputs": [
    {
     "data": {
      "text/plain": [
       "(array([5.59569584]), array([[-0.19676525,  2.04443257]]))"
      ]
     },
     "execution_count": 57,
     "metadata": {},
     "output_type": "execute_result"
    }
   ],
   "source": [
    "lor.intercept_, lor.coef_"
   ]
  },
  {
   "cell_type": "markdown",
   "id": "78ab59f5-c13c-486f-a133-34817cf27035",
   "metadata": {},
   "source": [
    "### Now you will be confused that this is the equation of a line and in logistic regression we are just guessing the probability of a point"
   ]
  },
  {
   "cell_type": "markdown",
   "id": "2daa3366-0e79-435b-be60-809b1e886826",
   "metadata": {},
   "source": [
    "### here the equation is of a line but we will be putting this equation in sigmoid function and then it will become like this"
   ]
  },
  {
   "attachments": {
    "450dafd1-2f16-48c6-af7f-03f4d24d481b.png": {
     "image/png": "[encoded data removed]"
    }
   },
   "cell_type": "markdown",
   "id": "2b8bfe67-6cca-4381-98fe-ec81fd6f499e",
   "metadata": {},
   "source": [
    "![image.png](attachment:450dafd1-2f16-48c6-af7f-03f4d24d481b.png)"
   ]
  },
  {
   "cell_type": "markdown",
   "id": "3b1e7aee-786f-46c5-8857-208fd1a6ae6a",
   "metadata": {},
   "source": [
    "### this function here is not a straight line curve but instead a different kind of curve which is a \"S\" like shape"
   ]
  },
  {
   "attachments": {
    "2c91eb57-f100-4722-a0b3-097ebdb31fd9.png": {
     "image/png": "[encoded data removed]"
    }
   },
   "cell_type": "markdown",
   "id": "8564074c-a232-4bfe-aab8-8d37311a26fe",
   "metadata": {},
   "source": [
    "![image.png](attachment:2c91eb57-f100-4722-a0b3-097ebdb31fd9.png)"
   ]
  },
  {
   "cell_type": "code",
   "execution_count": null,
   "id": "41327573-1d80-42d9-a3a8-9f78c446df8e",
   "metadata": {},
   "outputs": [],
   "source": []
  },
  {
   "cell_type": "code",
   "execution_count": null,
   "id": "871d38ad-e4bb-4c5a-991d-3aee011f1dda",
   "metadata": {},
   "outputs": [],
   "source": []
  },
  {
   "cell_type": "code",
   "execution_count": null,
   "id": "9769bfca-1d97-4575-8d39-f3b095f3db56",
   "metadata": {},
   "outputs": [],
   "source": []
  },
  {
   "cell_type": "code",
   "execution_count": null,
   "id": "d4dcdfd7-8d30-46b7-8825-facd8610431c",
   "metadata": {},
   "outputs": [],
   "source": []
  },
  {
   "cell_type": "code",
   "execution_count": null,
   "id": "a3245a0d-8a5d-4cc1-b0f2-60bdc11783ba",
   "metadata": {},
   "outputs": [],
   "source": []
  },
  {
   "cell_type": "code",
   "execution_count": null,
   "id": "a8bbd3be-2afc-4680-9795-1a1dbae2aa19",
   "metadata": {},
   "outputs": [],
   "source": []
  },
  {
   "cell_type": "code",
   "execution_count": null,
   "id": "e8ef0ee3-6b8e-4fbf-9487-b122883c9dc5",
   "metadata": {},
   "outputs": [],
   "source": []
  },
  {
   "cell_type": "code",
   "execution_count": null,
   "id": "dcc93c5f-d991-42cb-bfe7-03d366a554f2",
   "metadata": {},
   "outputs": [],
   "source": []
  },
  {
   "cell_type": "code",
   "execution_count": null,
   "id": "cdc1a25b-6abf-4cd5-a78b-997229d629f9",
   "metadata": {},
   "outputs": [],
   "source": []
  }
 ],
 "metadata": {
  "kernelspec": {
   "display_name": "Python 3 (ipykernel)",
   "language": "python",
   "name": "python3"
  },
  "language_info": {
   "codemirror_mode": {
    "name": "ipython",
    "version": 3
   },
   "file_extension": ".py",
   "mimetype": "text/x-python",
   "name": "python",
   "nbconvert_exporter": "python",
   "pygments_lexer": "ipython3",
   "version": "3.11.8"
  }
 },
 "nbformat": 4,
 "nbformat_minor": 5
}
