{
 "cells": [
  {
   "cell_type": "code",
   "execution_count": 1,
   "id": "5b13e1c5-9262-4ff4-96ec-7fcb78320393",
   "metadata": {
    "tags": []
   },
   "outputs": [
    {
     "name": "stdout",
     "output_type": "stream",
     "text": [
      "Original DataFrame:\n",
      "        A    B\n",
      "0   apple  cat\n",
      "1  banana  dog\n",
      "2     NaN  cat\n",
      "3  orange  dog\n",
      "4  banana  NaN\n",
      "\n",
      "Encoded DataFrame:\n",
      "   A_apple  A_banana  A_orange  A_nan  B_cat  B_dog  B_nan\n",
      "0      1.0       0.0       0.0    0.0    1.0    0.0    0.0\n",
      "1      0.0       1.0       0.0    0.0    0.0    1.0    0.0\n",
      "2      0.0       0.0       0.0    1.0    1.0    0.0    0.0\n",
      "3      0.0       0.0       1.0    0.0    0.0    1.0    0.0\n",
      "4      0.0       1.0       0.0    0.0    0.0    0.0    1.0\n"
     ]
    },
    {
     "name": "stderr",
     "output_type": "stream",
     "text": [
      "C:\\Users\\PK419HT\\AppData\\Local\\anaconda3\\Lib\\site-packages\\sklearn\\preprocessing\\_encoders.py:972: FutureWarning: `sparse` was renamed to `sparse_output` in version 1.2 and will be removed in 1.4. `sparse_output` is ignored unless you leave `sparse` to its default value.\n",
      "  warnings.warn(\n"
     ]
    }
   ],
   "source": [
    "import pandas as pd\n",
    "import numpy as np\n",
    "from sklearn.preprocessing import OneHotEncoder\n",
    "\n",
    "# Example data\n",
    "data = {\n",
    "    'A': ['apple', 'banana', np.nan, 'orange', 'banana'],\n",
    "    'B': ['cat', 'dog', 'cat', 'dog', np.nan]\n",
    "}\n",
    "\n",
    "# Create a DataFrame\n",
    "df = pd.DataFrame(data)\n",
    "\n",
    "print(\"Original DataFrame:\")\n",
    "print(df)\n",
    "\n",
    "# Apply OneHotEncoder\n",
    "encoder = OneHotEncoder(sparse=False, handle_unknown='ignore')\n",
    "encoded_data = encoder.fit_transform(df)\n",
    "\n",
    "# Create a DataFrame with the encoded data\n",
    "encoded_df = pd.DataFrame(encoded_data, columns=encoder.get_feature_names_out())\n",
    "\n",
    "print(\"\\nEncoded DataFrame:\")\n",
    "print(encoded_df)\n"
   ]
  },
  {
   "cell_type": "code",
   "execution_count": null,
   "id": "6f01c03e-fd75-465c-b632-7fd5e6bf8dff",
   "metadata": {},
   "outputs": [],
   "source": []
  }
 ],
 "metadata": {
  "kernelspec": {
   "display_name": "Python 3 (ipykernel)",
   "language": "python",
   "name": "python3"
  },
  "language_info": {
   "codemirror_mode": {
    "name": "ipython",
    "version": 3
   },
   "file_extension": ".py",
   "mimetype": "text/x-python",
   "name": "python",
   "nbconvert_exporter": "python",
   "pygments_lexer": "ipython3",
   "version": "3.11.8"
  }
 },
 "nbformat": 4,
 "nbformat_minor": 5
}
