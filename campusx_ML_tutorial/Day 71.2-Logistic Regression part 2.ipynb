{
 "cells": [
  {
   "cell_type": "code",
   "execution_count": 1,
   "id": "4442a451-0d35-4556-afa6-bfbe2126fc75",
   "metadata": {
    "tags": []
   },
   "outputs": [],
   "source": [
    "import pandas as pd\n",
    "import numpy as np"
   ]
  },
  {
   "cell_type": "code",
   "execution_count": 2,
   "id": "cdc9cf1a-0792-4de8-a8a4-6f9669b25bb6",
   "metadata": {
    "tags": []
   },
   "outputs": [],
   "source": [
    "import matplotlib.pyplot as plt\n",
    "import seaborn as sns\n",
    "%matplotlib inline"
   ]
  },
  {
   "cell_type": "code",
   "execution_count": 3,
   "id": "d6b233e9-3d40-4860-8f8e-ef0d7318a42a",
   "metadata": {
    "tags": []
   },
   "outputs": [],
   "source": [
    "from sklearn.datasets import make_classification"
   ]
  },
  {
   "cell_type": "code",
   "execution_count": 60,
   "id": "efaa744f-99e9-47a3-9205-9a022136afaf",
   "metadata": {
    "tags": []
   },
   "outputs": [],
   "source": [
    "X, y = make_classification(n_samples=100, n_features=2, n_informative=1, n_redundant=0, \n",
    "                          n_classes=2, n_clusters_per_class=1, random_state=41, hypercube=False, class_sep=7)"
   ]
  },
  {
   "cell_type": "code",
   "execution_count": 61,
   "id": "703d354e-fc40-4933-a8f1-05eecbb0548c",
   "metadata": {
    "tags": []
   },
   "outputs": [],
   "source": [
    "# Now it has two features and 1 target column"
   ]
  },
  {
   "cell_type": "code",
   "execution_count": 62,
   "id": "1717c76b-4d38-4d35-8331-00e01de41ffa",
   "metadata": {
    "tags": []
   },
   "outputs": [
    {
     "data": {
      "text/plain": [
       "array([[ 0.10565225, -0.11697552],\n",
       "       [-0.34241549, -0.73115232],\n",
       "       [-0.4480856 , -0.7081059 ],\n",
       "       [-1.08137751, -2.01199214],\n",
       "       [-0.29443471,  1.63493163],\n",
       "       [-0.32292367,  0.15599044],\n",
       "       [-1.28258259,  1.07782053],\n",
       "       [-0.0079345 ,  0.80626713],\n",
       "       [-0.65224819,  0.74859527],\n",
       "       [-1.45025507,  0.75152794],\n",
       "       [-1.26880192, -0.90114581],\n",
       "       [-1.27037098, -0.1815243 ],\n",
       "       [-0.11553671, -2.98092432],\n",
       "       [ 0.71203911,  1.20500136],\n",
       "       [-1.31752459,  0.78302407],\n",
       "       [ 0.29371208,  0.42968688],\n",
       "       [-0.23468188, -0.73229726],\n",
       "       [-1.37007185, -0.83930476],\n",
       "       [-0.27592431,  0.83727062],\n",
       "       [-1.26110778, -0.10255323],\n",
       "       [-1.76709273,  0.65867001],\n",
       "       [-1.55570747,  0.92649819],\n",
       "       [-0.80741796,  0.10216193],\n",
       "       [ 1.51683739,  0.46886454],\n",
       "       [-0.70701639,  0.45432938],\n",
       "       [ 0.5203771 ,  1.8613386 ],\n",
       "       [-1.27812201, -0.79255991],\n",
       "       [-0.53200406, -1.0004391 ],\n",
       "       [-1.89118829, -0.53814137],\n",
       "       [-1.29434697,  0.44027716],\n",
       "       [-0.93126858,  0.27047889],\n",
       "       [ 1.25630458, -0.75869267],\n",
       "       [ 0.13160647,  0.6802322 ],\n",
       "       [ 0.44329007,  0.17018845],\n",
       "       [ 0.46123939, -1.01121977],\n",
       "       [-0.41537705, -0.8394709 ],\n",
       "       [-0.47872493,  0.90327412],\n",
       "       [ 0.58035285,  1.16981747],\n",
       "       [-1.09964836,  0.53461406],\n",
       "       [ 0.66367674, -0.22100631],\n",
       "       [-0.81642621, -0.64584571],\n",
       "       [-0.40834537,  0.21243302],\n",
       "       [-0.84629392,  0.98654083],\n",
       "       [ 1.37510139,  0.67382928],\n",
       "       [-0.29591958, -0.11323563],\n",
       "       [ 0.98700296,  0.91694693],\n",
       "       [ 0.05307806,  0.3645213 ],\n",
       "       [-0.86375793, -0.78470874],\n",
       "       [-0.58793334, -1.48004137],\n",
       "       [-0.41068721,  0.72931763],\n",
       "       [ 0.12660993, -0.60000139],\n",
       "       [-0.4451244 ,  0.14720034],\n",
       "       [-0.91186912,  0.35215601],\n",
       "       [ 0.85055789,  0.17388705],\n",
       "       [ 2.05128671, -0.17162755],\n",
       "       [-1.01750781,  0.03763193],\n",
       "       [ 0.941198  ,  0.48360467],\n",
       "       [-1.5460238 , -0.07909256],\n",
       "       [-0.8229264 ,  0.06158897],\n",
       "       [-0.19974562, -1.20413846],\n",
       "       [ 0.80551074,  0.77324391],\n",
       "       [-0.81203939,  0.7640092 ],\n",
       "       [-1.45540915,  1.57200032],\n",
       "       [ 0.87740266,  0.47296516],\n",
       "       [-0.0415181 ,  0.0642074 ],\n",
       "       [-0.75753504,  1.52469135],\n",
       "       [-1.38427965, -2.1450828 ],\n",
       "       [ 0.5005494 , -0.7701428 ],\n",
       "       [-1.04312768,  0.84455766],\n",
       "       [-0.49039275,  1.29753064],\n",
       "       [-1.88715496, -0.84276652],\n",
       "       [ 0.18177918,  2.0615874 ],\n",
       "       [ 0.9787424 , -0.3036533 ],\n",
       "       [-0.94825125, -0.1656085 ],\n",
       "       [ 0.97307937,  1.16969713],\n",
       "       [ 0.58138824, -0.3038555 ],\n",
       "       [-1.67305804, -0.4788978 ],\n",
       "       [ 0.87035594,  0.28128262],\n",
       "       [-0.80609815,  0.70412341],\n",
       "       [ 0.6222651 ,  0.3757601 ],\n",
       "       [-0.25546174,  0.97247545],\n",
       "       [ 1.2482738 ,  0.56868381],\n",
       "       [-0.95074287, -0.39767934],\n",
       "       [ 1.28285972, -1.08933729],\n",
       "       [-0.45130247, -1.81663939],\n",
       "       [-1.35456585,  1.41775924],\n",
       "       [-1.27315925,  0.27098296],\n",
       "       [-0.67979062, -0.56186639],\n",
       "       [ 0.17295325,  0.42168159],\n",
       "       [-0.77860303, -2.95373116],\n",
       "       [ 0.65803962,  0.19492133],\n",
       "       [ 1.06894732, -0.04578681],\n",
       "       [-0.64941301, -0.18860967],\n",
       "       [-0.97744932,  0.44635682],\n",
       "       [ 0.65933298, -1.49814775],\n",
       "       [-1.61383962,  0.66198774],\n",
       "       [-1.02651062,  0.07153265],\n",
       "       [-0.95085959,  0.32323638],\n",
       "       [ 0.74267062, -0.34574201],\n",
       "       [-0.35930147,  0.06499922]])"
      ]
     },
     "execution_count": 62,
     "metadata": {},
     "output_type": "execute_result"
    }
   ],
   "source": [
    "X"
   ]
  },
  {
   "cell_type": "code",
   "execution_count": 63,
   "id": "bd93c6d5-a7e8-4225-b549-1c00d460ae94",
   "metadata": {
    "tags": []
   },
   "outputs": [
    {
     "data": {
      "text/plain": [
       "array([1, 1, 1, 0, 1, 0, 0, 1, 1, 0, 0, 0, 1, 1, 0, 1, 1, 0, 1, 0, 0, 0,\n",
       "       0, 1, 0, 1, 0, 0, 0, 0, 0, 1, 1, 1, 1, 1, 0, 1, 0, 1, 0, 0, 0, 1,\n",
       "       0, 1, 1, 0, 0, 0, 1, 1, 0, 1, 1, 0, 1, 0, 0, 1, 1, 0, 0, 1, 1, 1,\n",
       "       0, 1, 0, 0, 0, 1, 1, 0, 1, 1, 0, 1, 0, 1, 1, 1, 0, 1, 1, 0, 0, 0,\n",
       "       1, 0, 1, 1, 0, 0, 1, 0, 0, 0, 1, 1])"
      ]
     },
     "execution_count": 63,
     "metadata": {},
     "output_type": "execute_result"
    }
   ],
   "source": [
    "y"
   ]
  },
  {
   "cell_type": "code",
   "execution_count": 64,
   "id": "3515542a-922a-4ca9-880f-94defcc17919",
   "metadata": {
    "tags": []
   },
   "outputs": [
    {
     "data": {
      "text/plain": [
       "(100, 2)"
      ]
     },
     "execution_count": 64,
     "metadata": {},
     "output_type": "execute_result"
    }
   ],
   "source": [
    "X.shape"
   ]
  },
  {
   "cell_type": "code",
   "execution_count": 65,
   "id": "e14c41ad-570e-4a7c-ab11-c1b704ebf239",
   "metadata": {
    "tags": []
   },
   "outputs": [
    {
     "data": {
      "text/plain": [
       "(100,)"
      ]
     },
     "execution_count": 65,
     "metadata": {},
     "output_type": "execute_result"
    }
   ],
   "source": [
    "y.shape"
   ]
  },
  {
   "cell_type": "code",
   "execution_count": 66,
   "id": "2da2d625-9222-4b83-905b-772a74569800",
   "metadata": {
    "tags": []
   },
   "outputs": [],
   "source": [
    "y = y.reshape(-1,1)"
   ]
  },
  {
   "cell_type": "code",
   "execution_count": 67,
   "id": "4e2bf75e-cefc-43c0-8abe-1b162e19c3ef",
   "metadata": {
    "tags": []
   },
   "outputs": [
    {
     "data": {
      "text/plain": [
       "(100, 1)"
      ]
     },
     "execution_count": 67,
     "metadata": {},
     "output_type": "execute_result"
    }
   ],
   "source": [
    "y.shape"
   ]
  },
  {
   "cell_type": "code",
   "execution_count": 68,
   "id": "3eb81527-406b-429f-a0bf-771c270dfe69",
   "metadata": {
    "tags": []
   },
   "outputs": [],
   "source": [
    "df = pd.DataFrame(np.concatenate([X,y], axis=1), columns=['feature1', 'feature2', 'target'])"
   ]
  },
  {
   "cell_type": "code",
   "execution_count": 69,
   "id": "913ddf28-d50b-483a-9f2e-474624d3767d",
   "metadata": {
    "tags": []
   },
   "outputs": [
    {
     "data": {
      "text/html": [
       "<div>\n",
       "<style scoped>\n",
       "    .dataframe tbody tr th:only-of-type {\n",
       "        vertical-align: middle;\n",
       "    }\n",
       "\n",
       "    .dataframe tbody tr th {\n",
       "        vertical-align: top;\n",
       "    }\n",
       "\n",
       "    .dataframe thead th {\n",
       "        text-align: right;\n",
       "    }\n",
       "</style>\n",
       "<table border=\"1\" class=\"dataframe\">\n",
       "  <thead>\n",
       "    <tr style=\"text-align: right;\">\n",
       "      <th></th>\n",
       "      <th>feature1</th>\n",
       "      <th>feature2</th>\n",
       "      <th>target</th>\n",
       "    </tr>\n",
       "  </thead>\n",
       "  <tbody>\n",
       "    <tr>\n",
       "      <th>0</th>\n",
       "      <td>0.105652</td>\n",
       "      <td>-0.116976</td>\n",
       "      <td>1.0</td>\n",
       "    </tr>\n",
       "    <tr>\n",
       "      <th>1</th>\n",
       "      <td>-0.342415</td>\n",
       "      <td>-0.731152</td>\n",
       "      <td>1.0</td>\n",
       "    </tr>\n",
       "    <tr>\n",
       "      <th>2</th>\n",
       "      <td>-0.448086</td>\n",
       "      <td>-0.708106</td>\n",
       "      <td>1.0</td>\n",
       "    </tr>\n",
       "    <tr>\n",
       "      <th>3</th>\n",
       "      <td>-1.081378</td>\n",
       "      <td>-2.011992</td>\n",
       "      <td>0.0</td>\n",
       "    </tr>\n",
       "    <tr>\n",
       "      <th>4</th>\n",
       "      <td>-0.294435</td>\n",
       "      <td>1.634932</td>\n",
       "      <td>1.0</td>\n",
       "    </tr>\n",
       "    <tr>\n",
       "      <th>...</th>\n",
       "      <td>...</td>\n",
       "      <td>...</td>\n",
       "      <td>...</td>\n",
       "    </tr>\n",
       "    <tr>\n",
       "      <th>95</th>\n",
       "      <td>-1.613840</td>\n",
       "      <td>0.661988</td>\n",
       "      <td>0.0</td>\n",
       "    </tr>\n",
       "    <tr>\n",
       "      <th>96</th>\n",
       "      <td>-1.026511</td>\n",
       "      <td>0.071533</td>\n",
       "      <td>0.0</td>\n",
       "    </tr>\n",
       "    <tr>\n",
       "      <th>97</th>\n",
       "      <td>-0.950860</td>\n",
       "      <td>0.323236</td>\n",
       "      <td>0.0</td>\n",
       "    </tr>\n",
       "    <tr>\n",
       "      <th>98</th>\n",
       "      <td>0.742671</td>\n",
       "      <td>-0.345742</td>\n",
       "      <td>1.0</td>\n",
       "    </tr>\n",
       "    <tr>\n",
       "      <th>99</th>\n",
       "      <td>-0.359301</td>\n",
       "      <td>0.064999</td>\n",
       "      <td>1.0</td>\n",
       "    </tr>\n",
       "  </tbody>\n",
       "</table>\n",
       "<p>100 rows × 3 columns</p>\n",
       "</div>"
      ],
      "text/plain": [
       "    feature1  feature2  target\n",
       "0   0.105652 -0.116976     1.0\n",
       "1  -0.342415 -0.731152     1.0\n",
       "2  -0.448086 -0.708106     1.0\n",
       "3  -1.081378 -2.011992     0.0\n",
       "4  -0.294435  1.634932     1.0\n",
       "..       ...       ...     ...\n",
       "95 -1.613840  0.661988     0.0\n",
       "96 -1.026511  0.071533     0.0\n",
       "97 -0.950860  0.323236     0.0\n",
       "98  0.742671 -0.345742     1.0\n",
       "99 -0.359301  0.064999     1.0\n",
       "\n",
       "[100 rows x 3 columns]"
      ]
     },
     "execution_count": 69,
     "metadata": {},
     "output_type": "execute_result"
    }
   ],
   "source": [
    "df"
   ]
  },
  {
   "cell_type": "code",
   "execution_count": 70,
   "id": "6cc9ee54-7bb6-4780-8634-b761bf108120",
   "metadata": {
    "tags": []
   },
   "outputs": [
    {
     "data": {
      "image/png": "[encoded data removed]",
      "text/plain": [
       "<Figure size 640x480 with 1 Axes>"
      ]
     },
     "metadata": {},
     "output_type": "display_data"
    }
   ],
   "source": [
    "plt.scatter(df.iloc[:,0], df.iloc[:,1], c=df.iloc[:,-1], cmap='winter');"
   ]
  },
  {
   "cell_type": "code",
   "execution_count": 71,
   "id": "9a0f0a12-c42c-4ed0-9325-d03b4f712ac1",
   "metadata": {
    "tags": []
   },
   "outputs": [],
   "source": [
    "from sklearn.linear_model import LogisticRegression"
   ]
  },
  {
   "cell_type": "code",
   "execution_count": 72,
   "id": "0d2f2e8d-8ea8-4970-92a2-19241e4ac64b",
   "metadata": {
    "tags": []
   },
   "outputs": [],
   "source": [
    "from sklearn.model_selection import train_test_split"
   ]
  },
  {
   "cell_type": "code",
   "execution_count": 73,
   "id": "3b6d72c0-c86f-44a9-986b-3f212d113853",
   "metadata": {
    "tags": []
   },
   "outputs": [],
   "source": [
    "lr = LogisticRegression()"
   ]
  },
  {
   "cell_type": "code",
   "execution_count": 74,
   "id": "b4bebc8e-5df1-4929-9c7c-7fb7e796208a",
   "metadata": {
    "tags": []
   },
   "outputs": [],
   "source": [
    "X_train, X_test, y_train, y_test = train_test_split(df.iloc[:,0:2], df.iloc[:,-1], test_size=.2, random_state=42)"
   ]
  },
  {
   "cell_type": "code",
   "execution_count": 75,
   "id": "12bf7246-4d16-4152-846f-e09dd3bc7b5c",
   "metadata": {
    "tags": []
   },
   "outputs": [
    {
     "data": {
      "text/plain": [
       "((80, 2), (80,))"
      ]
     },
     "execution_count": 75,
     "metadata": {},
     "output_type": "execute_result"
    }
   ],
   "source": [
    "X_train.shape, y_train.shape"
   ]
  },
  {
   "cell_type": "code",
   "execution_count": 76,
   "id": "322311dc-c9f3-4c27-aa6b-5195759d5af6",
   "metadata": {
    "tags": []
   },
   "outputs": [
    {
     "data": {
      "text/plain": [
       "((20, 2), (20,))"
      ]
     },
     "execution_count": 76,
     "metadata": {},
     "output_type": "execute_result"
    }
   ],
   "source": [
    "X_test.shape, y_test.shape"
   ]
  },
  {
   "cell_type": "code",
   "execution_count": 77,
   "id": "9ce624ac-ea37-47e4-b78d-81a4c24760c1",
   "metadata": {
    "tags": []
   },
   "outputs": [
    {
     "data": {
      "text/html": [
       "<style>#sk-container-id-3 {color: black;}#sk-container-id-3 pre{padding: 0;}#sk-container-id-3 div.sk-toggleable {background-color: white;}#sk-container-id-3 label.sk-toggleable__label {cursor: pointer;display: block;width: 100%;margin-bottom: 0;padding: 0.3em;box-sizing: border-box;text-align: center;}#sk-container-id-3 label.sk-toggleable__label-arrow:before {content: \"▸\";float: left;margin-right: 0.25em;color: #696969;}#sk-container-id-3 label.sk-toggleable__label-arrow:hover:before {color: black;}#sk-container-id-3 div.sk-estimator:hover label.sk-toggleable__label-arrow:before {color: black;}#sk-container-id-3 div.sk-toggleable__content {max-height: 0;max-width: 0;overflow: hidden;text-align: left;background-color: #f0f8ff;}#sk-container-id-3 div.sk-toggleable__content pre {margin: 0.2em;color: black;border-radius: 0.25em;background-color: #f0f8ff;}#sk-container-id-3 input.sk-toggleable__control:checked~div.sk-toggleable__content {max-height: 200px;max-width: 100%;overflow: auto;}#sk-container-id-3 input.sk-toggleable__control:checked~label.sk-toggleable__label-arrow:before {content: \"▾\";}#sk-container-id-3 div.sk-estimator input.sk-toggleable__control:checked~label.sk-toggleable__label {background-color: #d4ebff;}#sk-container-id-3 div.sk-label input.sk-toggleable__control:checked~label.sk-toggleable__label {background-color: #d4ebff;}#sk-container-id-3 input.sk-hidden--visually {border: 0;clip: rect(1px 1px 1px 1px);clip: rect(1px, 1px, 1px, 1px);height: 1px;margin: -1px;overflow: hidden;padding: 0;position: absolute;width: 1px;}#sk-container-id-3 div.sk-estimator {font-family: monospace;background-color: #f0f8ff;border: 1px dotted black;border-radius: 0.25em;box-sizing: border-box;margin-bottom: 0.5em;}#sk-container-id-3 div.sk-estimator:hover {background-color: #d4ebff;}#sk-container-id-3 div.sk-parallel-item::after {content: \"\";width: 100%;border-bottom: 1px solid gray;flex-grow: 1;}#sk-container-id-3 div.sk-label:hover label.sk-toggleable__label {background-color: #d4ebff;}#sk-container-id-3 div.sk-serial::before {content: \"\";position: absolute;border-left: 1px solid gray;box-sizing: border-box;top: 0;bottom: 0;left: 50%;z-index: 0;}#sk-container-id-3 div.sk-serial {display: flex;flex-direction: column;align-items: center;background-color: white;padding-right: 0.2em;padding-left: 0.2em;position: relative;}#sk-container-id-3 div.sk-item {position: relative;z-index: 1;}#sk-container-id-3 div.sk-parallel {display: flex;align-items: stretch;justify-content: center;background-color: white;position: relative;}#sk-container-id-3 div.sk-item::before, #sk-container-id-3 div.sk-parallel-item::before {content: \"\";position: absolute;border-left: 1px solid gray;box-sizing: border-box;top: 0;bottom: 0;left: 50%;z-index: -1;}#sk-container-id-3 div.sk-parallel-item {display: flex;flex-direction: column;z-index: 1;position: relative;background-color: white;}#sk-container-id-3 div.sk-parallel-item:first-child::after {align-self: flex-end;width: 50%;}#sk-container-id-3 div.sk-parallel-item:last-child::after {align-self: flex-start;width: 50%;}#sk-container-id-3 div.sk-parallel-item:only-child::after {width: 0;}#sk-container-id-3 div.sk-dashed-wrapped {border: 1px dashed gray;margin: 0 0.4em 0.5em 0.4em;box-sizing: border-box;padding-bottom: 0.4em;background-color: white;}#sk-container-id-3 div.sk-label label {font-family: monospace;font-weight: bold;display: inline-block;line-height: 1.2em;}#sk-container-id-3 div.sk-label-container {text-align: center;}#sk-container-id-3 div.sk-container {/* jupyter's `normalize.less` sets `[hidden] { display: none; }` but bootstrap.min.css set `[hidden] { display: none !important; }` so we also need the `!important` here to be able to override the default hidden behavior on the sphinx rendered scikit-learn.org. See: https://github.com/scikit-learn/scikit-learn/issues/21755 */display: inline-block !important;position: relative;}#sk-container-id-3 div.sk-text-repr-fallback {display: none;}</style><div id=\"sk-container-id-3\" class=\"sk-top-container\"><div class=\"sk-text-repr-fallback\"><pre>LogisticRegression()</pre><b>In a Jupyter environment, please rerun this cell to show the HTML representation or trust the notebook. <br />On GitHub, the HTML representation is unable to render, please try loading this page with nbviewer.org.</b></div><div class=\"sk-container\" hidden><div class=\"sk-item\"><div class=\"sk-estimator sk-toggleable\"><input class=\"sk-toggleable__control sk-hidden--visually\" id=\"sk-estimator-id-3\" type=\"checkbox\" checked><label for=\"sk-estimator-id-3\" class=\"sk-toggleable__label sk-toggleable__label-arrow\">LogisticRegression</label><div class=\"sk-toggleable__content\"><pre>LogisticRegression()</pre></div></div></div></div></div>"
      ],
      "text/plain": [
       "LogisticRegression()"
      ]
     },
     "execution_count": 77,
     "metadata": {},
     "output_type": "execute_result"
    }
   ],
   "source": [
    "lr.fit(X_train, y_train)"
   ]
  },
  {
   "cell_type": "code",
   "execution_count": 78,
   "id": "22737602-0922-46de-9d50-4f86661c415b",
   "metadata": {
    "tags": []
   },
   "outputs": [],
   "source": [
    "from sklearn.metrics import accuracy_score, confusion_matrix, classification_report"
   ]
  },
  {
   "cell_type": "code",
   "execution_count": 79,
   "id": "9f3d90a1-a227-47f5-aa32-0cc606452fd9",
   "metadata": {
    "tags": []
   },
   "outputs": [
    {
     "name": "stdout",
     "output_type": "stream",
     "text": [
      "accuracy score is: 0.95\n"
     ]
    }
   ],
   "source": [
    "print('accuracy score is:', accuracy_score(y_test, lr.predict(X_test)))"
   ]
  },
  {
   "cell_type": "code",
   "execution_count": 80,
   "id": "5cdd14d5-7992-427a-9cf3-adcd2034865c",
   "metadata": {
    "tags": []
   },
   "outputs": [
    {
     "data": {
      "text/plain": [
       "array([[ 6,  1],\n",
       "       [ 0, 13]], dtype=int64)"
      ]
     },
     "execution_count": 80,
     "metadata": {},
     "output_type": "execute_result"
    }
   ],
   "source": [
    "confusion_matrix(y_test, lr.predict(X_test))"
   ]
  },
  {
   "cell_type": "code",
   "execution_count": 83,
   "id": "dbe48c84-0806-48d1-b55c-806927a8a9ae",
   "metadata": {
    "tags": []
   },
   "outputs": [
    {
     "data": {
      "text/plain": [
       "'              precision    recall  f1-score   support\\n\\n         0.0       1.00      0.86      0.92         7\\n         1.0       0.93      1.00      0.96        13\\n\\n    accuracy                           0.95        20\\n   macro avg       0.96      0.93      0.94        20\\nweighted avg       0.95      0.95      0.95        20\\n'"
      ]
     },
     "execution_count": 83,
     "metadata": {},
     "output_type": "execute_result"
    }
   ],
   "source": [
    "classification_report(y_test, lr.predict(X_test))"
   ]
  },
  {
   "cell_type": "code",
   "execution_count": null,
   "id": "9db27cf2-885a-4cef-a3eb-bf0f0703d808",
   "metadata": {},
   "outputs": [],
   "source": []
  },
  {
   "cell_type": "code",
   "execution_count": null,
   "id": "8cf85ec8-f717-4a55-a1c7-455fd5938a3c",
   "metadata": {},
   "outputs": [],
   "source": []
  },
  {
   "cell_type": "code",
   "execution_count": null,
   "id": "bcb9da41-d1ba-44f4-a148-b8fb0c52c3f4",
   "metadata": {},
   "outputs": [],
   "source": []
  },
  {
   "cell_type": "code",
   "execution_count": null,
   "id": "c0f5d8aa-fd45-4b77-b4ef-93d5bf4dd351",
   "metadata": {},
   "outputs": [],
   "source": []
  },
  {
   "cell_type": "code",
   "execution_count": null,
   "id": "50654ff6-617d-4407-91ad-66a96c71c0ce",
   "metadata": {},
   "outputs": [],
   "source": []
  },
  {
   "cell_type": "code",
   "execution_count": null,
   "id": "3a2165f7-2a66-488b-ace3-830b98fbfb59",
   "metadata": {},
   "outputs": [],
   "source": []
  },
  {
   "cell_type": "code",
   "execution_count": null,
   "id": "d8483ac4-06c6-40c9-a3fe-8c0493fb219e",
   "metadata": {},
   "outputs": [],
   "source": []
  },
  {
   "cell_type": "code",
   "execution_count": null,
   "id": "046cfbc0-20ec-48a0-8919-64e17a6de0a3",
   "metadata": {},
   "outputs": [],
   "source": []
  },
  {
   "cell_type": "code",
   "execution_count": null,
   "id": "835e1c55-b0f6-4cc8-a112-fdbd65c3a1e4",
   "metadata": {},
   "outputs": [],
   "source": []
  },
  {
   "cell_type": "code",
   "execution_count": null,
   "id": "3d536104-c4a8-4406-9e1f-148d5e8ede31",
   "metadata": {},
   "outputs": [],
   "source": []
  }
 ],
 "metadata": {
  "kernelspec": {
   "display_name": "Python 3 (ipykernel)",
   "language": "python",
   "name": "python3"
  },
  "language_info": {
   "codemirror_mode": {
    "name": "ipython",
    "version": 3
   },
   "file_extension": ".py",
   "mimetype": "text/x-python",
   "name": "python",
   "nbconvert_exporter": "python",
   "pygments_lexer": "ipython3",
   "version": "3.11.8"
  }
 },
 "nbformat": 4,
 "nbformat_minor": 5
}
